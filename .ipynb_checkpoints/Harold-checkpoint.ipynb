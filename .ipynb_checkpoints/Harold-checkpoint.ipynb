{
 "cells": [
  {
   "cell_type": "markdown",
   "id": "31b2165e-b07b-451e-8448-fd84e8692b71",
   "metadata": {},
   "source": [
    "Harold Articles \n",
    "Date: 23rd March 2022"
   ]
  },
  {
   "cell_type": "code",
   "execution_count": 1,
   "id": "9373f2ef-ea75-4e1c-bb20-e7eb0947f9ef",
   "metadata": {
    "collapsed": true,
    "scrolled": true
   },
   "outputs": [],
   "source": [
    "#libaries\n",
    "from bs4 import BeautifulSoup\n",
    "from IPython.core.display import display, HTML\n",
    "import requests\n",
    "import json"
   ]
  },
  {
   "cell_type": "code",
   "execution_count": 25,
   "id": "47f97450-564b-433d-9c07-1eef7a836561",
   "metadata": {
    "scrolled": true
   },
   "outputs": [],
   "source": [
    "#find class value, NZherald changes this value every 24 hours.\n",
    "#return value if article to Free :P\n",
    "def findClass(soup):    \n",
    "    #<script> tag contains the css selector value\n",
    "    data = json.loads(soup.find('script', type='application/ld+json').text)\n",
    "    \n",
    "    if 'hasPart' in data:\n",
    "        print(\"premiumm\")\n",
    "        className = data['hasPart'][0]['cssSelector'][1:]\n",
    "        return className\n",
    "    else:\n",
    "        print(\"its free silly!\")\n",
    "        className = \"na\"\n",
    "        return className"
   ]
  },
  {
   "cell_type": "code",
   "execution_count": 46,
   "id": "a50f1efe",
   "metadata": {},
   "outputs": [],
   "source": [
    "#retrive contents of the article\n",
    "def getContents(soup, value):\n",
    "    #title\n",
    "    if soup.find(\"h1\",{\"class\":\"article-bigread__heading\"}):\n",
    "        #if big read article\n",
    "        title = soup.find(\"h1\",{\"class\":\"article-bigread__heading\"}).text\n",
    "    elif soup.find(\"h1\",{\"class\":\"article__heading\"}):\n",
    "        #normal article\n",
    "        title = soup.find(\"h1\",{\"class\":\"article__heading\"}).text\n",
    "    else:\n",
    "        title = \"No title\"\n",
    "\n",
    "    #get intro text.\n",
    "    startText = None\n",
    "    if soup.find(\"span\",{\"class\":\"ellipsis\"}):\n",
    "        span = True\n",
    "        findSpanA = soup.find(\"span\",{\"class\":\"ellipsis\"}).text\n",
    "        findSpanB = soup.find(\"span\",{\"class\":value}).text \n",
    "        startText = findSpanA + \" \" + findSpanB\n",
    "    else:\n",
    "        span = False\n",
    "        startText = \" \"\n",
    "        findArticle = soup.find(\"section\",{\"data-test-ui\":\"article__body\"})\n",
    "        findStart = findArticle.find_all(\"p\",{\"class\":\"\"})\n",
    "\n",
    "    #text body\n",
    "    findText = soup.find_all([\"p\",\"h2\", \"div\"],{\"class\":value})\n",
    "\n",
    "    display(HTML('<h1> %s </h1>' % title))\n",
    "    display(HTML('<p>  </p>'))\n",
    "\n",
    "    if span:\n",
    "        display(HTML('<p> %s </p>' % startText))\n",
    "    else:\n",
    "        for i in findStart:\n",
    "            display(HTML('<p> %s </p>' % i.text))\n",
    "\n",
    "    display(HTML('<p>  </p>'))\n",
    "    for i in findText:\n",
    "        #sub-headings\n",
    "        if i.name == \"h2\":\n",
    "            display(HTML('<h2> %s </h2>' % i.text))\n",
    "        # text\n",
    "        elif i.name == \"p\":\n",
    "            display(HTML('<p> %s </p>' % i.text))\n",
    "            display(HTML('<p>  </p>'))\n",
    "\n",
    "        ##images\n",
    "        elif i.name == \"div\":\n",
    "                #get 730px resolution image for display which is the 4th item in the array\n",
    "                if i.find(\"img\"):\n",
    "                    images = i.find(\"img\")[\"data-srcset\"]\n",
    "                    image = images.split(\",\")\n",
    "                    imgUrl = image[3].split(\" \")[0]\n",
    "                    display(HTML('<img src=\"%s\" alt=\"\" width=\"500\" height=\"600\">' % imgUrl))\n",
    "    "
   ]
  },
  {
   "cell_type": "code",
   "execution_count": 47,
   "id": "72156c21-86ca-45dc-aa12-6d6314e64288",
   "metadata": {
    "scrolled": true
   },
   "outputs": [],
   "source": [
    "def NZHarold():\n",
    "    url = input(\"Enter NZhearld URL: \")\n",
    "    \n",
    "    #soup it\n",
    "    r = requests.get(url)\n",
    "    soup = BeautifulSoup(r.text, 'html.parser')\n",
    "    \n",
    "    #find hidden class\n",
    "    classValue = findClass(soup)\n",
    "    \n",
    "    if classValue == \"na\":\n",
    "        display(HTML('<h1> This article is free silly! </h1>'))\n",
    "    else:\n",
    "        getContents(soup, classValue)\n",
    "\n",
    "            \n",
    "\n",
    "\n",
    "\n",
    "    \n",
    "    "
   ]
  },
  {
   "cell_type": "code",
   "execution_count": 48,
   "id": "e72f39c2",
   "metadata": {
    "scrolled": false,
    "slideshow": {
     "slide_type": "-"
    }
   },
   "outputs": [
    {
     "name": "stdout",
     "output_type": "stream",
     "text": [
      "Enter NZhearld URL: https://www.nzherald.co.nz/nz/cop-killer-eli-epiha-how-police-tracked-the-illegal-gun-he-used-to-murder-constable-matthew-hunt/5Y5263BAV6J7M4MB2RSF2CC7QE/\n",
      "premiumm\n"
     ]
    },
    {
     "data": {
      "text/html": [
       "<h1> Cop killer Eli Epiha: How police tracked the illegal gun he used to murder Constable Matthew Hunt </h1>"
      ],
      "text/plain": [
       "<IPython.core.display.HTML object>"
      ]
     },
     "metadata": {},
     "output_type": "display_data"
    },
    {
     "data": {
      "text/html": [
       "<p>  </p>"
      ],
      "text/plain": [
       "<IPython.core.display.HTML object>"
      ]
     },
     "metadata": {},
     "output_type": "display_data"
    },
    {
     "data": {
      "text/html": [
       "<p> The ground exploded around Constable David Goldfinch as he ran for his life. Four bullets struck him in the hip, lower leg and foot. </p>"
      ],
      "text/plain": [
       "<IPython.core.display.HTML object>"
      ]
     },
     "metadata": {},
     "output_type": "display_data"
    },
    {
     "data": {
      "text/html": [
       "<p>  </p>"
      ],
      "text/plain": [
       "<IPython.core.display.HTML object>"
      ]
     },
     "metadata": {},
     "output_type": "display_data"
    },
    {
     "data": {
      "text/html": [
       "<p> Then Epiha turned on Goldfinch's partner, Constable Matthew Hunt, firing four more times at close range. </p>"
      ],
      "text/plain": [
       "<IPython.core.display.HTML object>"
      ]
     },
     "metadata": {},
     "output_type": "display_data"
    },
    {
     "data": {
      "text/html": [
       "<p>  </p>"
      ],
      "text/plain": [
       "<IPython.core.display.HTML object>"
      ]
     },
     "metadata": {},
     "output_type": "display_data"
    },
    {
     "data": {
      "text/html": [
       "<p> Hunt's massive internal injuries were unsurvivable. </p>"
      ],
      "text/plain": [
       "<IPython.core.display.HTML object>"
      ]
     },
     "metadata": {},
     "output_type": "display_data"
    },
    {
     "data": {
      "text/html": [
       "<p>  </p>"
      ],
      "text/plain": [
       "<IPython.core.display.HTML object>"
      ]
     },
     "metadata": {},
     "output_type": "display_data"
    },
    {
     "data": {
      "text/html": [
       "<p> The death of the 28-year-old  in West Auckland on June 19, 2020, during what should've been a routine traffic stop, was the first time a police officer had been killed in the line of duty in more than a decade. </p>"
      ],
      "text/plain": [
       "<IPython.core.display.HTML object>"
      ]
     },
     "metadata": {},
     "output_type": "display_data"
    },
    {
     "data": {
      "text/html": [
       "<p>  </p>"
      ],
      "text/plain": [
       "<IPython.core.display.HTML object>"
      ]
     },
     "metadata": {},
     "output_type": "display_data"
    },
    {
     "data": {
      "text/html": [
       "<p> It was also a stark reminder of the dangers faced by frontline officers every day, at a time when criminals are more heavily armed than ever. </p>"
      ],
      "text/plain": [
       "<IPython.core.display.HTML object>"
      ]
     },
     "metadata": {},
     "output_type": "display_data"
    },
    {
     "data": {
      "text/html": [
       "<p>  </p>"
      ],
      "text/plain": [
       "<IPython.core.display.HTML object>"
      ]
     },
     "metadata": {},
     "output_type": "display_data"
    },
    {
     "data": {
      "text/html": [
       "<p> Epiha will serve at least 27 years in prison for murder and attempted murder, although one important question was left unanswered at the High Court trial last year: How did such a dangerous and illegal firearm end up in Epiha's hands in the first place? </p>"
      ],
      "text/plain": [
       "<IPython.core.display.HTML object>"
      ]
     },
     "metadata": {},
     "output_type": "display_data"
    },
    {
     "data": {
      "text/html": [
       "<p>  </p>"
      ],
      "text/plain": [
       "<IPython.core.display.HTML object>"
      ]
     },
     "metadata": {},
     "output_type": "display_data"
    },
    {
     "data": {
      "text/html": [
       "<img src=\"https://www.nzherald.co.nz/resizer/SDqxmMA5j0FvdKlu_O87N5-5lUw=/768x512/smart/filters:quality(70)/cloudfront-ap-southeast-2.images.arcpublishing.com/nzme/B6KNPZXJAFEHD3MYHPQ3ZP5EBE.jpg\" alt=\"\" width=\"500\" height=\"600\">"
      ],
      "text/plain": [
       "<IPython.core.display.HTML object>"
      ]
     },
     "metadata": {},
     "output_type": "display_data"
    },
    {
     "data": {
      "text/html": [
       "<p> It was a Norinco NHM-90, a Chinese military-style rifle similar to the infamous AK-47 from Russia. </p>"
      ],
      "text/plain": [
       "<IPython.core.display.HTML object>"
      ]
     },
     "metadata": {},
     "output_type": "display_data"
    },
    {
     "data": {
      "text/html": [
       "<p>  </p>"
      ],
      "text/plain": [
       "<IPython.core.display.HTML object>"
      ]
     },
     "metadata": {},
     "output_type": "display_data"
    },
    {
     "data": {
      "text/html": [
       "<p> It's also the exact type of semi-automatic firearm, once widely available to anyone with a basic firearms licence, banned in the gun law reform which followed the March 15 terrorist attacks in 2019. </p>"
      ],
      "text/plain": [
       "<IPython.core.display.HTML object>"
      ]
     },
     "metadata": {},
     "output_type": "display_data"
    },
    {
     "data": {
      "text/html": [
       "<p>  </p>"
      ],
      "text/plain": [
       "<IPython.core.display.HTML object>"
      ]
     },
     "metadata": {},
     "output_type": "display_data"
    },
    {
     "data": {
      "text/html": [
       "<p> While tracing the origin of the murder weapon was not necessary to prove Epiha's guilt, the Operation Wheaton homicide inquiry spent considerable time trying to learn how the Norinco came to be in his possession. Tracing firearms can be difficult and, in this case, the factory serial number etched into the gun's frame had been filed off and was unable to be recovered forensically. </p>"
      ],
      "text/plain": [
       "<IPython.core.display.HTML object>"
      ]
     },
     "metadata": {},
     "output_type": "display_data"
    },
    {
     "data": {
      "text/html": [
       "<p>  </p>"
      ],
      "text/plain": [
       "<IPython.core.display.HTML object>"
      ]
     },
     "metadata": {},
     "output_type": "display_data"
    },
    {
     "data": {
      "text/html": [
       "<p> However, a partial serial number ending in 0419 was found stencilled on the firearm's bolt carrier, according to a police document released under the Official Information Act. </p>"
      ],
      "text/plain": [
       "<IPython.core.display.HTML object>"
      ]
     },
     "metadata": {},
     "output_type": "display_data"
    },
    {
     "data": {
      "text/html": [
       "<p>  </p>"
      ],
      "text/plain": [
       "<IPython.core.display.HTML object>"
      ]
     },
     "metadata": {},
     "output_type": "display_data"
    },
    {
     "data": {
      "text/html": [
       "<p> The Norinco had been rebranded as a \"Ranger\", which was a useful clue as that particular model was sold only by the Gun City retail chain. </p>"
      ],
      "text/plain": [
       "<IPython.core.display.HTML object>"
      ]
     },
     "metadata": {},
     "output_type": "display_data"
    },
    {
     "data": {
      "text/html": [
       "<p>  </p>"
      ],
      "text/plain": [
       "<IPython.core.display.HTML object>"
      ]
     },
     "metadata": {},
     "output_type": "display_data"
    },
    {
     "data": {
      "text/html": [
       "<p> According to their sales records, Gun City had sold only two Norinco NHM-90 firearms with the serial number ending 0419. </p>"
      ],
      "text/plain": [
       "<IPython.core.display.HTML object>"
      ]
     },
     "metadata": {},
     "output_type": "display_data"
    },
    {
     "data": {
      "text/html": [
       "<p>  </p>"
      ],
      "text/plain": [
       "<IPython.core.display.HTML object>"
      ]
     },
     "metadata": {},
     "output_type": "display_data"
    },
    {
     "data": {
      "text/html": [
       "<p> One of them was marked as being destroyed by police in 2019 as part of the Government's buy-back scheme, where owners of the newly prohibited firearms were paid compensation for handing in the illegal weapons. </p>"
      ],
      "text/plain": [
       "<IPython.core.display.HTML object>"
      ]
     },
     "metadata": {},
     "output_type": "display_data"
    },
    {
     "data": {
      "text/html": [
       "<p>  </p>"
      ],
      "text/plain": [
       "<IPython.core.display.HTML object>"
      ]
     },
     "metadata": {},
     "output_type": "display_data"
    },
    {
     "data": {
      "text/html": [
       "<p> The other Norinco was legally sold by Gun City in 2017 to an individual with the most basic firearms licence, Category A. </p>"
      ],
      "text/plain": [
       "<IPython.core.display.HTML object>"
      ]
     },
     "metadata": {},
     "output_type": "display_data"
    },
    {
     "data": {
      "text/html": [
       "<p>  </p>"
      ],
      "text/plain": [
       "<IPython.core.display.HTML object>"
      ]
     },
     "metadata": {},
     "output_type": "display_data"
    },
    {
     "data": {
      "text/html": [
       "<p> The sales records also show that particular NHM-90 had been modified by adding a Dragunov-style stock, with a bent lower bar. </p>"
      ],
      "text/plain": [
       "<IPython.core.display.HTML object>"
      ]
     },
     "metadata": {},
     "output_type": "display_data"
    },
    {
     "data": {
      "text/html": [
       "<p>  </p>"
      ],
      "text/plain": [
       "<IPython.core.display.HTML object>"
      ]
     },
     "metadata": {},
     "output_type": "display_data"
    },
    {
     "data": {
      "text/html": [
       "<p> This distinctive alteration was an exact match to the Epiha's murder weapon. </p>"
      ],
      "text/plain": [
       "<IPython.core.display.HTML object>"
      ]
     },
     "metadata": {},
     "output_type": "display_data"
    },
    {
     "data": {
      "text/html": [
       "<p>  </p>"
      ],
      "text/plain": [
       "<IPython.core.display.HTML object>"
      ]
     },
     "metadata": {},
     "output_type": "display_data"
    },
    {
     "data": {
      "text/html": [
       "<p> According to the Operation Wheaton report, the individual who legally purchased the Norinco NHM-90 from Gun City had his firearms licence revoked a year later. He was also alleged to be a gang associate. </p>"
      ],
      "text/plain": [
       "<IPython.core.display.HTML object>"
      ]
     },
     "metadata": {},
     "output_type": "display_data"
    },
    {
     "data": {
      "text/html": [
       "<p>  </p>"
      ],
      "text/plain": [
       "<IPython.core.display.HTML object>"
      ]
     },
     "metadata": {},
     "output_type": "display_data"
    },
    {
     "data": {
      "text/html": [
       "<p> When the police searched the man's home as part of Operation Wheaton in September 2020, the Norinco NHM-90 was nowhere to be found. He told the police that he had sold the firearm. </p>"
      ],
      "text/plain": [
       "<IPython.core.display.HTML object>"
      ]
     },
     "metadata": {},
     "output_type": "display_data"
    },
    {
     "data": {
      "text/html": [
       "<p>  </p>"
      ],
      "text/plain": [
       "<IPython.core.display.HTML object>"
      ]
     },
     "metadata": {},
     "output_type": "display_data"
    },
    {
     "data": {
      "text/html": [
       "<p> There was no way for the police to check his story because of a loophole in the Arms Act. </p>"
      ],
      "text/plain": [
       "<IPython.core.display.HTML object>"
      ]
     },
     "metadata": {},
     "output_type": "display_data"
    },
    {
     "data": {
      "text/html": [
       "<p>  </p>"
      ],
      "text/plain": [
       "<IPython.core.display.HTML object>"
      ]
     },
     "metadata": {},
     "output_type": "display_data"
    },
    {
     "data": {
      "text/html": [
       "<p> While retailers such as Gun City must keep records of gun sales, individual gun owners wanting to sell their firearms to someone else in private sales did not. </p>"
      ],
      "text/plain": [
       "<IPython.core.display.HTML object>"
      ]
     },
     "metadata": {},
     "output_type": "display_data"
    },
    {
     "data": {
      "text/html": [
       "<p>  </p>"
      ],
      "text/plain": [
       "<IPython.core.display.HTML object>"
      ]
     },
     "metadata": {},
     "output_type": "display_data"
    },
    {
     "data": {
      "text/html": [
       "<p> Under the law at the time, the only legal obligation on sellers was to look at the prospective buyer's firearms licence. There was no requirement to check whether the licence was valid or even keep a record of the buyer's details. </p>"
      ],
      "text/plain": [
       "<IPython.core.display.HTML object>"
      ]
     },
     "metadata": {},
     "output_type": "display_data"
    },
    {
     "data": {
      "text/html": [
       "<p>  </p>"
      ],
      "text/plain": [
       "<IPython.core.display.HTML object>"
      ]
     },
     "metadata": {},
     "output_type": "display_data"
    },
    {
     "data": {
      "text/html": [
       "<p> Without any evidence, the police could not prove whether the original purchaser of the Norinco NHM-90 supplied the gun directly to Epiha, who did not have a firearms licence, or to someone else who then on-sold to him. </p>"
      ],
      "text/plain": [
       "<IPython.core.display.HTML object>"
      ]
     },
     "metadata": {},
     "output_type": "display_data"
    },
    {
     "data": {
      "text/html": [
       "<p>  </p>"
      ],
      "text/plain": [
       "<IPython.core.display.HTML object>"
      ]
     },
     "metadata": {},
     "output_type": "display_data"
    },
    {
     "data": {
      "text/html": [
       "<p> However, the police did find some more illegal firepower in the man's home: a 45 ACP USC rifle, a 6.5 Creedmoor 1500 rifle, a starter pistol modified to fire live rounds and 847 rounds of ammunition. </p>"
      ],
      "text/plain": [
       "<IPython.core.display.HTML object>"
      ]
     },
     "metadata": {},
     "output_type": "display_data"
    },
    {
     "data": {
      "text/html": [
       "<p>  </p>"
      ],
      "text/plain": [
       "<IPython.core.display.HTML object>"
      ]
     },
     "metadata": {},
     "output_type": "display_data"
    },
    {
     "data": {
      "text/html": [
       "<p> He was charged with unlawful possession of firearms and sentenced to 80 hours of community work. Despite no suppression orders being in place, the police redacted the man's identity from the Official Information Act response to protect his privacy. </p>"
      ],
      "text/plain": [
       "<IPython.core.display.HTML object>"
      ]
     },
     "metadata": {},
     "output_type": "display_data"
    },
    {
     "data": {
      "text/html": [
       "<p>  </p>"
      ],
      "text/plain": [
       "<IPython.core.display.HTML object>"
      ]
     },
     "metadata": {},
     "output_type": "display_data"
    },
    {
     "data": {
      "text/html": [
       "<img src=\"https://www.nzherald.co.nz/resizer/LzztlLqs3xWBJ_EovVCQ-8SkmL8=/768x576/smart/filters:quality(70)/cloudfront-ap-southeast-2.images.arcpublishing.com/nzme/B7B2K24DAJHSPBVK3VT3B5ZILI.jpg\" alt=\"\" width=\"500\" height=\"600\">"
      ],
      "text/plain": [
       "<IPython.core.display.HTML object>"
      ]
     },
     "metadata": {},
     "output_type": "display_data"
    },
    {
     "data": {
      "text/html": [
       "<p> While no charges could be laid in regards to how the gun which killed an unarmed police officer ended up in the wrong hands, Operation Wheaton is an example of how easy it has been for legitimate firearms to enter the criminal underworld unchecked for many years. </p>"
      ],
      "text/plain": [
       "<IPython.core.display.HTML object>"
      ]
     },
     "metadata": {},
     "output_type": "display_data"
    },
    {
     "data": {
      "text/html": [
       "<p>  </p>"
      ],
      "text/plain": [
       "<IPython.core.display.HTML object>"
      ]
     },
     "metadata": {},
     "output_type": "display_data"
    },
    {
     "data": {
      "text/html": [
       "<p> A large pool of guns is thought to be circulating in the black market, perhaps in the hundreds of thousands, and frontline police are growing increasingly alarmed about the heavy firepower that gangs have at their disposal - and their willingness to use them. </p>"
      ],
      "text/plain": [
       "<IPython.core.display.HTML object>"
      ]
     },
     "metadata": {},
     "output_type": "display_data"
    },
    {
     "data": {
      "text/html": [
       "<p>  </p>"
      ],
      "text/plain": [
       "<IPython.core.display.HTML object>"
      ]
     },
     "metadata": {},
     "output_type": "display_data"
    },
    {
     "data": {
      "text/html": [
       "<p> Investigating those supply chains in the firearms black market has become a top priority for the police in the past 12 months. </p>"
      ],
      "text/plain": [
       "<IPython.core.display.HTML object>"
      ]
     },
     "metadata": {},
     "output_type": "display_data"
    },
    {
     "data": {
      "text/html": [
       "<p>  </p>"
      ],
      "text/plain": [
       "<IPython.core.display.HTML object>"
      ]
     },
     "metadata": {},
     "output_type": "display_data"
    },
    {
     "data": {
      "text/html": [
       "<p> For many years, the police have believed that most firearms in criminal hands are stolen from legitimate gun owners. </p>"
      ],
      "text/plain": [
       "<IPython.core.display.HTML object>"
      ]
     },
     "metadata": {},
     "output_type": "display_data"
    },
    {
     "data": {
      "text/html": [
       "<p>  </p>"
      ],
      "text/plain": [
       "<IPython.core.display.HTML object>"
      ]
     },
     "metadata": {},
     "output_type": "display_data"
    },
    {
     "data": {
      "text/html": [
       "<p> This point had frustrated some in the firearms community, who say there is little data to back up the claim. </p>"
      ],
      "text/plain": [
       "<IPython.core.display.HTML object>"
      ]
     },
     "metadata": {},
     "output_type": "display_data"
    },
    {
     "data": {
      "text/html": [
       "<p>  </p>"
      ],
      "text/plain": [
       "<IPython.core.display.HTML object>"
      ]
     },
     "metadata": {},
     "output_type": "display_data"
    },
    {
     "data": {
      "text/html": [
       "<p> Now the police say that nationwide crackdown on illegal firearms, Operation Tauwhiro, has identified that \"straw purchasing\" of firearms - a tactic where licensed firearms owners sell guns to criminals - is a much bigger problem than previously thought. </p>"
      ],
      "text/plain": [
       "<IPython.core.display.HTML object>"
      ]
     },
     "metadata": {},
     "output_type": "display_data"
    },
    {
     "data": {
      "text/html": [
       "<p>  </p>"
      ],
      "text/plain": [
       "<IPython.core.display.HTML object>"
      ]
     },
     "metadata": {},
     "output_type": "display_data"
    },
    {
     "data": {
      "text/html": [
       "<p> \"We discovered a small but significant trend where we recovered firearms in possession of gang members, or associates, and managed to trace them back to people who had purchased firearms across the counter,\" said Detective Inspector Darryl Sweeney, the national coordinator for Operation Tauwhiro. </p>"
      ],
      "text/plain": [
       "<IPython.core.display.HTML object>"
      ]
     },
     "metadata": {},
     "output_type": "display_data"
    },
    {
     "data": {
      "text/html": [
       "<p>  </p>"
      ],
      "text/plain": [
       "<IPython.core.display.HTML object>"
      ]
     },
     "metadata": {},
     "output_type": "display_data"
    },
    {
     "data": {
      "text/html": [
       "<p> Eight individuals were prosecuted including meth dealer Gordon McRae, as first revealed by the Herald, who in some cases swapped drugs for guns. </p>"
      ],
      "text/plain": [
       "<IPython.core.display.HTML object>"
      ]
     },
     "metadata": {},
     "output_type": "display_data"
    },
    {
     "data": {
      "text/html": [
       "<p>  </p>"
      ],
      "text/plain": [
       "<IPython.core.display.HTML object>"
      ]
     },
     "metadata": {},
     "output_type": "display_data"
    },
    {
     "data": {
      "text/html": [
       "<p> But the smattering of case studies were not treated as individual bad apples. Instead, the recently established Firearms Investigation Team cast the net wider and is now analysing 150,000 gun sales from the past two-and-half years. </p>"
      ],
      "text/plain": [
       "<IPython.core.display.HTML object>"
      ]
     },
     "metadata": {},
     "output_type": "display_data"
    },
    {
     "data": {
      "text/html": [
       "<p>  </p>"
      ],
      "text/plain": [
       "<IPython.core.display.HTML object>"
      ]
     },
     "metadata": {},
     "output_type": "display_data"
    },
    {
     "data": {
      "text/html": [
       "<p> \"We think roughly about 0.1 per cent of those sales might turn into a lead that we need to track down for firearms diversion,\" said Sweeney. </p>"
      ],
      "text/plain": [
       "<IPython.core.display.HTML object>"
      ]
     },
     "metadata": {},
     "output_type": "display_data"
    },
    {
     "data": {
      "text/html": [
       "<p>  </p>"
      ],
      "text/plain": [
       "<IPython.core.display.HTML object>"
      ]
     },
     "metadata": {},
     "output_type": "display_data"
    },
    {
     "data": {
      "text/html": [
       "<p> \"It's early days in terms of crunching the data, but we're starting to identify people of interest that we need to investigate further. But certainly, we think retail diversion, or 'straw purchasing' is a much bigger problem than previously thought.\" </p>"
      ],
      "text/plain": [
       "<IPython.core.display.HTML object>"
      ]
     },
     "metadata": {},
     "output_type": "display_data"
    },
    {
     "data": {
      "text/html": [
       "<p>  </p>"
      ],
      "text/plain": [
       "<IPython.core.display.HTML object>"
      ]
     },
     "metadata": {},
     "output_type": "display_data"
    },
    {
     "data": {
      "text/html": [
       "<img src=\"https://www.nzherald.co.nz/resizer/1335IsCP-sAh07v8H4Skp0ITG7M=/768x384/smart/filters:quality(70)/cloudfront-ap-southeast-2.images.arcpublishing.com/nzme/EQFI27NICVRHP7RA3J46SVJIVI.jpg\" alt=\"\" width=\"500\" height=\"600\">"
      ],
      "text/plain": [
       "<IPython.core.display.HTML object>"
      ]
     },
     "metadata": {},
     "output_type": "display_data"
    },
    {
     "data": {
      "text/html": [
       "<p> From next month, the New Zealand Police will also gain access to an international database, eTrace, which is run by the Bureau of Alcohol, Tobacco, Firearms and Explosives (ATF) in the United States. </p>"
      ],
      "text/plain": [
       "<IPython.core.display.HTML object>"
      ]
     },
     "metadata": {},
     "output_type": "display_data"
    },
    {
     "data": {
      "text/html": [
       "<p>  </p>"
      ],
      "text/plain": [
       "<IPython.core.display.HTML object>"
      ]
     },
     "metadata": {},
     "output_type": "display_data"
    },
    {
     "data": {
      "text/html": [
       "<p> The system allows law enforcement agencies around the world to share manufacturing and sales data, to help investigators trace illegal firearms as far back as the factory plant where they were made. </p>"
      ],
      "text/plain": [
       "<IPython.core.display.HTML object>"
      ]
     },
     "metadata": {},
     "output_type": "display_data"
    },
    {
     "data": {
      "text/html": [
       "<p>  </p>"
      ],
      "text/plain": [
       "<IPython.core.display.HTML object>"
      ]
     },
     "metadata": {},
     "output_type": "display_data"
    },
    {
     "data": {
      "text/html": [
       "<p> Eventually, Sweeney says the police will be able to join the eTrace technology with firearms import data held by the New Zealand Customs. </p>"
      ],
      "text/plain": [
       "<IPython.core.display.HTML object>"
      ]
     },
     "metadata": {},
     "output_type": "display_data"
    },
    {
     "data": {
      "text/html": [
       "<p>  </p>"
      ],
      "text/plain": [
       "<IPython.core.display.HTML object>"
      ]
     },
     "metadata": {},
     "output_type": "display_data"
    },
    {
     "data": {
      "text/html": [
       "<p> This new focus on the illicit supply chains is being closely co-ordinated with the tightening of regulations in the wake of the Christchurch terror attacks. </p>"
      ],
      "text/plain": [
       "<IPython.core.display.HTML object>"
      ]
     },
     "metadata": {},
     "output_type": "display_data"
    },
    {
     "data": {
      "text/html": [
       "<p>  </p>"
      ],
      "text/plain": [
       "<IPython.core.display.HTML object>"
      ]
     },
     "metadata": {},
     "output_type": "display_data"
    },
    {
     "data": {
      "text/html": [
       "<p> As well as banning semi-automatic weapons, the Labour Government introduced a national firearms register as part of its wider gun reforms, in a project led by Superintendent Richard Wilson. </p>"
      ],
      "text/plain": [
       "<IPython.core.display.HTML object>"
      ]
     },
     "metadata": {},
     "output_type": "display_data"
    },
    {
     "data": {
      "text/html": [
       "<p>  </p>"
      ],
      "text/plain": [
       "<IPython.core.display.HTML object>"
      ]
     },
     "metadata": {},
     "output_type": "display_data"
    },
    {
     "data": {
      "text/html": [
       "<p> From June next year, each individual firearm will need to be registered to a licence holder. The loophole which allowed the private sale of firearms without recording the details of the new owner will also be closed. </p>"
      ],
      "text/plain": [
       "<IPython.core.display.HTML object>"
      ]
     },
     "metadata": {},
     "output_type": "display_data"
    },
    {
     "data": {
      "text/html": [
       "<p>  </p>"
      ],
      "text/plain": [
       "<IPython.core.display.HTML object>"
      ]
     },
     "metadata": {},
     "output_type": "display_data"
    },
    {
     "data": {
      "text/html": [
       "<p> \"At the moment, the firearms ecosystem where legitimately purchased firearms become illicit is a big grey zone,\" Wilson said. </p>"
      ],
      "text/plain": [
       "<IPython.core.display.HTML object>"
      ]
     },
     "metadata": {},
     "output_type": "display_data"
    },
    {
     "data": {
      "text/html": [
       "<p>  </p>"
      ],
      "text/plain": [
       "<IPython.core.display.HTML object>"
      ]
     },
     "metadata": {},
     "output_type": "display_data"
    },
    {
     "data": {
      "text/html": [
       "<p> \"The requirement to register those firearms soon will allow us to track those guns, whether they've been burgled or sold, and give us a really good picture.\" </p>"
      ],
      "text/plain": [
       "<IPython.core.display.HTML object>"
      ]
     },
     "metadata": {},
     "output_type": "display_data"
    },
    {
     "data": {
      "text/html": [
       "<p>  </p>"
      ],
      "text/plain": [
       "<IPython.core.display.HTML object>"
      ]
     },
     "metadata": {},
     "output_type": "display_data"
    },
    {
     "data": {
      "text/html": [
       "<p> Both Sweeney and Wilson were mindful of the impact of the changes on law-abiding gun owners and praised the cooperation of the retailers across the country. </p>"
      ],
      "text/plain": [
       "<IPython.core.display.HTML object>"
      ]
     },
     "metadata": {},
     "output_type": "display_data"
    },
    {
     "data": {
      "text/html": [
       "<p>  </p>"
      ],
      "text/plain": [
       "<IPython.core.display.HTML object>"
      ]
     },
     "metadata": {},
     "output_type": "display_data"
    },
    {
     "data": {
      "text/html": [
       "<p> With so many firearms already available to gangs and organised crime, the police officers were also aware that the stricter regulations and focus on firearms would take time to bear fruit. </p>"
      ],
      "text/plain": [
       "<IPython.core.display.HTML object>"
      ]
     },
     "metadata": {},
     "output_type": "display_data"
    },
    {
     "data": {
      "text/html": [
       "<p>  </p>"
      ],
      "text/plain": [
       "<IPython.core.display.HTML object>"
      ]
     },
     "metadata": {},
     "output_type": "display_data"
    },
    {
     "data": {
      "text/html": [
       "<p> \"We'll still continue to pull firearms out of the back of cars at vehicle checks and the like for the foreseeable future,\" said Wilson. </p>"
      ],
      "text/plain": [
       "<IPython.core.display.HTML object>"
      ]
     },
     "metadata": {},
     "output_type": "display_data"
    },
    {
     "data": {
      "text/html": [
       "<p>  </p>"
      ],
      "text/plain": [
       "<IPython.core.display.HTML object>"
      ]
     },
     "metadata": {},
     "output_type": "display_data"
    },
    {
     "data": {
      "text/html": [
       "<p> \"We need to understand the breadth and depth of the black market. But ultimately these measures we're putting in place will make the country safer.\" </p>"
      ],
      "text/plain": [
       "<IPython.core.display.HTML object>"
      ]
     },
     "metadata": {},
     "output_type": "display_data"
    },
    {
     "data": {
      "text/html": [
       "<p>  </p>"
      ],
      "text/plain": [
       "<IPython.core.display.HTML object>"
      ]
     },
     "metadata": {},
     "output_type": "display_data"
    },
    {
     "data": {
      "text/html": [
       "<h1> Cop killer Eli Epiha: How police tracked the illegal gun he used to murder Constable Matthew Hunt </h1>"
      ],
      "text/plain": [
       "<IPython.core.display.HTML object>"
      ]
     },
     "metadata": {},
     "output_type": "display_data"
    },
    {
     "data": {
      "text/html": [
       "<p>  </p>"
      ],
      "text/plain": [
       "<IPython.core.display.HTML object>"
      ]
     },
     "metadata": {},
     "output_type": "display_data"
    },
    {
     "data": {
      "text/html": [
       "<p> The ground exploded around Constable David Goldfinch as he ran for his life. Four bullets struck him in the hip, lower leg and foot. </p>"
      ],
      "text/plain": [
       "<IPython.core.display.HTML object>"
      ]
     },
     "metadata": {},
     "output_type": "display_data"
    },
    {
     "data": {
      "text/html": [
       "<p>  </p>"
      ],
      "text/plain": [
       "<IPython.core.display.HTML object>"
      ]
     },
     "metadata": {},
     "output_type": "display_data"
    },
    {
     "data": {
      "text/html": [
       "<p> Then Epiha turned on Goldfinch's partner, Constable Matthew Hunt, firing four more times at close range. </p>"
      ],
      "text/plain": [
       "<IPython.core.display.HTML object>"
      ]
     },
     "metadata": {},
     "output_type": "display_data"
    },
    {
     "data": {
      "text/html": [
       "<p>  </p>"
      ],
      "text/plain": [
       "<IPython.core.display.HTML object>"
      ]
     },
     "metadata": {},
     "output_type": "display_data"
    },
    {
     "data": {
      "text/html": [
       "<p> Hunt's massive internal injuries were unsurvivable. </p>"
      ],
      "text/plain": [
       "<IPython.core.display.HTML object>"
      ]
     },
     "metadata": {},
     "output_type": "display_data"
    },
    {
     "data": {
      "text/html": [
       "<p>  </p>"
      ],
      "text/plain": [
       "<IPython.core.display.HTML object>"
      ]
     },
     "metadata": {},
     "output_type": "display_data"
    },
    {
     "data": {
      "text/html": [
       "<p> The death of the 28-year-old  in West Auckland on June 19, 2020, during what should've been a routine traffic stop, was the first time a police officer had been killed in the line of duty in more than a decade. </p>"
      ],
      "text/plain": [
       "<IPython.core.display.HTML object>"
      ]
     },
     "metadata": {},
     "output_type": "display_data"
    },
    {
     "data": {
      "text/html": [
       "<p>  </p>"
      ],
      "text/plain": [
       "<IPython.core.display.HTML object>"
      ]
     },
     "metadata": {},
     "output_type": "display_data"
    },
    {
     "data": {
      "text/html": [
       "<p> It was also a stark reminder of the dangers faced by frontline officers every day, at a time when criminals are more heavily armed than ever. </p>"
      ],
      "text/plain": [
       "<IPython.core.display.HTML object>"
      ]
     },
     "metadata": {},
     "output_type": "display_data"
    },
    {
     "data": {
      "text/html": [
       "<p>  </p>"
      ],
      "text/plain": [
       "<IPython.core.display.HTML object>"
      ]
     },
     "metadata": {},
     "output_type": "display_data"
    },
    {
     "data": {
      "text/html": [
       "<p> Epiha will serve at least 27 years in prison for murder and attempted murder, although one important question was left unanswered at the High Court trial last year: How did such a dangerous and illegal firearm end up in Epiha's hands in the first place? </p>"
      ],
      "text/plain": [
       "<IPython.core.display.HTML object>"
      ]
     },
     "metadata": {},
     "output_type": "display_data"
    },
    {
     "data": {
      "text/html": [
       "<p>  </p>"
      ],
      "text/plain": [
       "<IPython.core.display.HTML object>"
      ]
     },
     "metadata": {},
     "output_type": "display_data"
    },
    {
     "data": {
      "text/html": [
       "<img src=\"https://www.nzherald.co.nz/resizer/SDqxmMA5j0FvdKlu_O87N5-5lUw=/768x512/smart/filters:quality(70)/cloudfront-ap-southeast-2.images.arcpublishing.com/nzme/B6KNPZXJAFEHD3MYHPQ3ZP5EBE.jpg\" alt=\"\" width=\"500\" height=\"600\">"
      ],
      "text/plain": [
       "<IPython.core.display.HTML object>"
      ]
     },
     "metadata": {},
     "output_type": "display_data"
    },
    {
     "data": {
      "text/html": [
       "<p> It was a Norinco NHM-90, a Chinese military-style rifle similar to the infamous AK-47 from Russia. </p>"
      ],
      "text/plain": [
       "<IPython.core.display.HTML object>"
      ]
     },
     "metadata": {},
     "output_type": "display_data"
    },
    {
     "data": {
      "text/html": [
       "<p>  </p>"
      ],
      "text/plain": [
       "<IPython.core.display.HTML object>"
      ]
     },
     "metadata": {},
     "output_type": "display_data"
    },
    {
     "data": {
      "text/html": [
       "<p> It's also the exact type of semi-automatic firearm, once widely available to anyone with a basic firearms licence, banned in the gun law reform which followed the March 15 terrorist attacks in 2019. </p>"
      ],
      "text/plain": [
       "<IPython.core.display.HTML object>"
      ]
     },
     "metadata": {},
     "output_type": "display_data"
    },
    {
     "data": {
      "text/html": [
       "<p>  </p>"
      ],
      "text/plain": [
       "<IPython.core.display.HTML object>"
      ]
     },
     "metadata": {},
     "output_type": "display_data"
    },
    {
     "data": {
      "text/html": [
       "<p> While tracing the origin of the murder weapon was not necessary to prove Epiha's guilt, the Operation Wheaton homicide inquiry spent considerable time trying to learn how the Norinco came to be in his possession. Tracing firearms can be difficult and, in this case, the factory serial number etched into the gun's frame had been filed off and was unable to be recovered forensically. </p>"
      ],
      "text/plain": [
       "<IPython.core.display.HTML object>"
      ]
     },
     "metadata": {},
     "output_type": "display_data"
    },
    {
     "data": {
      "text/html": [
       "<p>  </p>"
      ],
      "text/plain": [
       "<IPython.core.display.HTML object>"
      ]
     },
     "metadata": {},
     "output_type": "display_data"
    },
    {
     "data": {
      "text/html": [
       "<p> However, a partial serial number ending in 0419 was found stencilled on the firearm's bolt carrier, according to a police document released under the Official Information Act. </p>"
      ],
      "text/plain": [
       "<IPython.core.display.HTML object>"
      ]
     },
     "metadata": {},
     "output_type": "display_data"
    },
    {
     "data": {
      "text/html": [
       "<p>  </p>"
      ],
      "text/plain": [
       "<IPython.core.display.HTML object>"
      ]
     },
     "metadata": {},
     "output_type": "display_data"
    },
    {
     "data": {
      "text/html": [
       "<p> The Norinco had been rebranded as a \"Ranger\", which was a useful clue as that particular model was sold only by the Gun City retail chain. </p>"
      ],
      "text/plain": [
       "<IPython.core.display.HTML object>"
      ]
     },
     "metadata": {},
     "output_type": "display_data"
    },
    {
     "data": {
      "text/html": [
       "<p>  </p>"
      ],
      "text/plain": [
       "<IPython.core.display.HTML object>"
      ]
     },
     "metadata": {},
     "output_type": "display_data"
    },
    {
     "data": {
      "text/html": [
       "<p> According to their sales records, Gun City had sold only two Norinco NHM-90 firearms with the serial number ending 0419. </p>"
      ],
      "text/plain": [
       "<IPython.core.display.HTML object>"
      ]
     },
     "metadata": {},
     "output_type": "display_data"
    },
    {
     "data": {
      "text/html": [
       "<p>  </p>"
      ],
      "text/plain": [
       "<IPython.core.display.HTML object>"
      ]
     },
     "metadata": {},
     "output_type": "display_data"
    },
    {
     "data": {
      "text/html": [
       "<p> One of them was marked as being destroyed by police in 2019 as part of the Government's buy-back scheme, where owners of the newly prohibited firearms were paid compensation for handing in the illegal weapons. </p>"
      ],
      "text/plain": [
       "<IPython.core.display.HTML object>"
      ]
     },
     "metadata": {},
     "output_type": "display_data"
    },
    {
     "data": {
      "text/html": [
       "<p>  </p>"
      ],
      "text/plain": [
       "<IPython.core.display.HTML object>"
      ]
     },
     "metadata": {},
     "output_type": "display_data"
    },
    {
     "data": {
      "text/html": [
       "<p> The other Norinco was legally sold by Gun City in 2017 to an individual with the most basic firearms licence, Category A. </p>"
      ],
      "text/plain": [
       "<IPython.core.display.HTML object>"
      ]
     },
     "metadata": {},
     "output_type": "display_data"
    },
    {
     "data": {
      "text/html": [
       "<p>  </p>"
      ],
      "text/plain": [
       "<IPython.core.display.HTML object>"
      ]
     },
     "metadata": {},
     "output_type": "display_data"
    },
    {
     "data": {
      "text/html": [
       "<p> The sales records also show that particular NHM-90 had been modified by adding a Dragunov-style stock, with a bent lower bar. </p>"
      ],
      "text/plain": [
       "<IPython.core.display.HTML object>"
      ]
     },
     "metadata": {},
     "output_type": "display_data"
    },
    {
     "data": {
      "text/html": [
       "<p>  </p>"
      ],
      "text/plain": [
       "<IPython.core.display.HTML object>"
      ]
     },
     "metadata": {},
     "output_type": "display_data"
    },
    {
     "data": {
      "text/html": [
       "<p> This distinctive alteration was an exact match to the Epiha's murder weapon. </p>"
      ],
      "text/plain": [
       "<IPython.core.display.HTML object>"
      ]
     },
     "metadata": {},
     "output_type": "display_data"
    },
    {
     "data": {
      "text/html": [
       "<p>  </p>"
      ],
      "text/plain": [
       "<IPython.core.display.HTML object>"
      ]
     },
     "metadata": {},
     "output_type": "display_data"
    },
    {
     "data": {
      "text/html": [
       "<p> According to the Operation Wheaton report, the individual who legally purchased the Norinco NHM-90 from Gun City had his firearms licence revoked a year later. He was also alleged to be a gang associate. </p>"
      ],
      "text/plain": [
       "<IPython.core.display.HTML object>"
      ]
     },
     "metadata": {},
     "output_type": "display_data"
    },
    {
     "data": {
      "text/html": [
       "<p>  </p>"
      ],
      "text/plain": [
       "<IPython.core.display.HTML object>"
      ]
     },
     "metadata": {},
     "output_type": "display_data"
    },
    {
     "data": {
      "text/html": [
       "<p> When the police searched the man's home as part of Operation Wheaton in September 2020, the Norinco NHM-90 was nowhere to be found. He told the police that he had sold the firearm. </p>"
      ],
      "text/plain": [
       "<IPython.core.display.HTML object>"
      ]
     },
     "metadata": {},
     "output_type": "display_data"
    },
    {
     "data": {
      "text/html": [
       "<p>  </p>"
      ],
      "text/plain": [
       "<IPython.core.display.HTML object>"
      ]
     },
     "metadata": {},
     "output_type": "display_data"
    },
    {
     "data": {
      "text/html": [
       "<p> There was no way for the police to check his story because of a loophole in the Arms Act. </p>"
      ],
      "text/plain": [
       "<IPython.core.display.HTML object>"
      ]
     },
     "metadata": {},
     "output_type": "display_data"
    },
    {
     "data": {
      "text/html": [
       "<p>  </p>"
      ],
      "text/plain": [
       "<IPython.core.display.HTML object>"
      ]
     },
     "metadata": {},
     "output_type": "display_data"
    },
    {
     "data": {
      "text/html": [
       "<p> While retailers such as Gun City must keep records of gun sales, individual gun owners wanting to sell their firearms to someone else in private sales did not. </p>"
      ],
      "text/plain": [
       "<IPython.core.display.HTML object>"
      ]
     },
     "metadata": {},
     "output_type": "display_data"
    },
    {
     "data": {
      "text/html": [
       "<p>  </p>"
      ],
      "text/plain": [
       "<IPython.core.display.HTML object>"
      ]
     },
     "metadata": {},
     "output_type": "display_data"
    },
    {
     "data": {
      "text/html": [
       "<p> Under the law at the time, the only legal obligation on sellers was to look at the prospective buyer's firearms licence. There was no requirement to check whether the licence was valid or even keep a record of the buyer's details. </p>"
      ],
      "text/plain": [
       "<IPython.core.display.HTML object>"
      ]
     },
     "metadata": {},
     "output_type": "display_data"
    },
    {
     "data": {
      "text/html": [
       "<p>  </p>"
      ],
      "text/plain": [
       "<IPython.core.display.HTML object>"
      ]
     },
     "metadata": {},
     "output_type": "display_data"
    },
    {
     "data": {
      "text/html": [
       "<p> Without any evidence, the police could not prove whether the original purchaser of the Norinco NHM-90 supplied the gun directly to Epiha, who did not have a firearms licence, or to someone else who then on-sold to him. </p>"
      ],
      "text/plain": [
       "<IPython.core.display.HTML object>"
      ]
     },
     "metadata": {},
     "output_type": "display_data"
    },
    {
     "data": {
      "text/html": [
       "<p>  </p>"
      ],
      "text/plain": [
       "<IPython.core.display.HTML object>"
      ]
     },
     "metadata": {},
     "output_type": "display_data"
    },
    {
     "data": {
      "text/html": [
       "<p> However, the police did find some more illegal firepower in the man's home: a 45 ACP USC rifle, a 6.5 Creedmoor 1500 rifle, a starter pistol modified to fire live rounds and 847 rounds of ammunition. </p>"
      ],
      "text/plain": [
       "<IPython.core.display.HTML object>"
      ]
     },
     "metadata": {},
     "output_type": "display_data"
    },
    {
     "data": {
      "text/html": [
       "<p>  </p>"
      ],
      "text/plain": [
       "<IPython.core.display.HTML object>"
      ]
     },
     "metadata": {},
     "output_type": "display_data"
    },
    {
     "data": {
      "text/html": [
       "<p> He was charged with unlawful possession of firearms and sentenced to 80 hours of community work. Despite no suppression orders being in place, the police redacted the man's identity from the Official Information Act response to protect his privacy. </p>"
      ],
      "text/plain": [
       "<IPython.core.display.HTML object>"
      ]
     },
     "metadata": {},
     "output_type": "display_data"
    },
    {
     "data": {
      "text/html": [
       "<p>  </p>"
      ],
      "text/plain": [
       "<IPython.core.display.HTML object>"
      ]
     },
     "metadata": {},
     "output_type": "display_data"
    },
    {
     "data": {
      "text/html": [
       "<img src=\"https://www.nzherald.co.nz/resizer/LzztlLqs3xWBJ_EovVCQ-8SkmL8=/768x576/smart/filters:quality(70)/cloudfront-ap-southeast-2.images.arcpublishing.com/nzme/B7B2K24DAJHSPBVK3VT3B5ZILI.jpg\" alt=\"\" width=\"500\" height=\"600\">"
      ],
      "text/plain": [
       "<IPython.core.display.HTML object>"
      ]
     },
     "metadata": {},
     "output_type": "display_data"
    },
    {
     "data": {
      "text/html": [
       "<p> While no charges could be laid in regards to how the gun which killed an unarmed police officer ended up in the wrong hands, Operation Wheaton is an example of how easy it has been for legitimate firearms to enter the criminal underworld unchecked for many years. </p>"
      ],
      "text/plain": [
       "<IPython.core.display.HTML object>"
      ]
     },
     "metadata": {},
     "output_type": "display_data"
    },
    {
     "data": {
      "text/html": [
       "<p>  </p>"
      ],
      "text/plain": [
       "<IPython.core.display.HTML object>"
      ]
     },
     "metadata": {},
     "output_type": "display_data"
    },
    {
     "data": {
      "text/html": [
       "<p> A large pool of guns is thought to be circulating in the black market, perhaps in the hundreds of thousands, and frontline police are growing increasingly alarmed about the heavy firepower that gangs have at their disposal - and their willingness to use them. </p>"
      ],
      "text/plain": [
       "<IPython.core.display.HTML object>"
      ]
     },
     "metadata": {},
     "output_type": "display_data"
    },
    {
     "data": {
      "text/html": [
       "<p>  </p>"
      ],
      "text/plain": [
       "<IPython.core.display.HTML object>"
      ]
     },
     "metadata": {},
     "output_type": "display_data"
    },
    {
     "data": {
      "text/html": [
       "<p> Investigating those supply chains in the firearms black market has become a top priority for the police in the past 12 months. </p>"
      ],
      "text/plain": [
       "<IPython.core.display.HTML object>"
      ]
     },
     "metadata": {},
     "output_type": "display_data"
    },
    {
     "data": {
      "text/html": [
       "<p>  </p>"
      ],
      "text/plain": [
       "<IPython.core.display.HTML object>"
      ]
     },
     "metadata": {},
     "output_type": "display_data"
    },
    {
     "data": {
      "text/html": [
       "<p> For many years, the police have believed that most firearms in criminal hands are stolen from legitimate gun owners. </p>"
      ],
      "text/plain": [
       "<IPython.core.display.HTML object>"
      ]
     },
     "metadata": {},
     "output_type": "display_data"
    },
    {
     "data": {
      "text/html": [
       "<p>  </p>"
      ],
      "text/plain": [
       "<IPython.core.display.HTML object>"
      ]
     },
     "metadata": {},
     "output_type": "display_data"
    },
    {
     "data": {
      "text/html": [
       "<p> This point had frustrated some in the firearms community, who say there is little data to back up the claim. </p>"
      ],
      "text/plain": [
       "<IPython.core.display.HTML object>"
      ]
     },
     "metadata": {},
     "output_type": "display_data"
    },
    {
     "data": {
      "text/html": [
       "<p>  </p>"
      ],
      "text/plain": [
       "<IPython.core.display.HTML object>"
      ]
     },
     "metadata": {},
     "output_type": "display_data"
    },
    {
     "data": {
      "text/html": [
       "<p> Now the police say that nationwide crackdown on illegal firearms, Operation Tauwhiro, has identified that \"straw purchasing\" of firearms - a tactic where licensed firearms owners sell guns to criminals - is a much bigger problem than previously thought. </p>"
      ],
      "text/plain": [
       "<IPython.core.display.HTML object>"
      ]
     },
     "metadata": {},
     "output_type": "display_data"
    },
    {
     "data": {
      "text/html": [
       "<p>  </p>"
      ],
      "text/plain": [
       "<IPython.core.display.HTML object>"
      ]
     },
     "metadata": {},
     "output_type": "display_data"
    },
    {
     "data": {
      "text/html": [
       "<p> \"We discovered a small but significant trend where we recovered firearms in possession of gang members, or associates, and managed to trace them back to people who had purchased firearms across the counter,\" said Detective Inspector Darryl Sweeney, the national coordinator for Operation Tauwhiro. </p>"
      ],
      "text/plain": [
       "<IPython.core.display.HTML object>"
      ]
     },
     "metadata": {},
     "output_type": "display_data"
    },
    {
     "data": {
      "text/html": [
       "<p>  </p>"
      ],
      "text/plain": [
       "<IPython.core.display.HTML object>"
      ]
     },
     "metadata": {},
     "output_type": "display_data"
    },
    {
     "data": {
      "text/html": [
       "<p> Eight individuals were prosecuted including meth dealer Gordon McRae, as first revealed by the Herald, who in some cases swapped drugs for guns. </p>"
      ],
      "text/plain": [
       "<IPython.core.display.HTML object>"
      ]
     },
     "metadata": {},
     "output_type": "display_data"
    },
    {
     "data": {
      "text/html": [
       "<p>  </p>"
      ],
      "text/plain": [
       "<IPython.core.display.HTML object>"
      ]
     },
     "metadata": {},
     "output_type": "display_data"
    },
    {
     "data": {
      "text/html": [
       "<p> But the smattering of case studies were not treated as individual bad apples. Instead, the recently established Firearms Investigation Team cast the net wider and is now analysing 150,000 gun sales from the past two-and-half years. </p>"
      ],
      "text/plain": [
       "<IPython.core.display.HTML object>"
      ]
     },
     "metadata": {},
     "output_type": "display_data"
    },
    {
     "data": {
      "text/html": [
       "<p>  </p>"
      ],
      "text/plain": [
       "<IPython.core.display.HTML object>"
      ]
     },
     "metadata": {},
     "output_type": "display_data"
    },
    {
     "data": {
      "text/html": [
       "<p> \"We think roughly about 0.1 per cent of those sales might turn into a lead that we need to track down for firearms diversion,\" said Sweeney. </p>"
      ],
      "text/plain": [
       "<IPython.core.display.HTML object>"
      ]
     },
     "metadata": {},
     "output_type": "display_data"
    },
    {
     "data": {
      "text/html": [
       "<p>  </p>"
      ],
      "text/plain": [
       "<IPython.core.display.HTML object>"
      ]
     },
     "metadata": {},
     "output_type": "display_data"
    },
    {
     "data": {
      "text/html": [
       "<p> \"It's early days in terms of crunching the data, but we're starting to identify people of interest that we need to investigate further. But certainly, we think retail diversion, or 'straw purchasing' is a much bigger problem than previously thought.\" </p>"
      ],
      "text/plain": [
       "<IPython.core.display.HTML object>"
      ]
     },
     "metadata": {},
     "output_type": "display_data"
    },
    {
     "data": {
      "text/html": [
       "<p>  </p>"
      ],
      "text/plain": [
       "<IPython.core.display.HTML object>"
      ]
     },
     "metadata": {},
     "output_type": "display_data"
    },
    {
     "data": {
      "text/html": [
       "<img src=\"https://www.nzherald.co.nz/resizer/1335IsCP-sAh07v8H4Skp0ITG7M=/768x384/smart/filters:quality(70)/cloudfront-ap-southeast-2.images.arcpublishing.com/nzme/EQFI27NICVRHP7RA3J46SVJIVI.jpg\" alt=\"\" width=\"500\" height=\"600\">"
      ],
      "text/plain": [
       "<IPython.core.display.HTML object>"
      ]
     },
     "metadata": {},
     "output_type": "display_data"
    },
    {
     "data": {
      "text/html": [
       "<p> From next month, the New Zealand Police will also gain access to an international database, eTrace, which is run by the Bureau of Alcohol, Tobacco, Firearms and Explosives (ATF) in the United States. </p>"
      ],
      "text/plain": [
       "<IPython.core.display.HTML object>"
      ]
     },
     "metadata": {},
     "output_type": "display_data"
    },
    {
     "data": {
      "text/html": [
       "<p>  </p>"
      ],
      "text/plain": [
       "<IPython.core.display.HTML object>"
      ]
     },
     "metadata": {},
     "output_type": "display_data"
    },
    {
     "data": {
      "text/html": [
       "<p> The system allows law enforcement agencies around the world to share manufacturing and sales data, to help investigators trace illegal firearms as far back as the factory plant where they were made. </p>"
      ],
      "text/plain": [
       "<IPython.core.display.HTML object>"
      ]
     },
     "metadata": {},
     "output_type": "display_data"
    },
    {
     "data": {
      "text/html": [
       "<p>  </p>"
      ],
      "text/plain": [
       "<IPython.core.display.HTML object>"
      ]
     },
     "metadata": {},
     "output_type": "display_data"
    },
    {
     "data": {
      "text/html": [
       "<p> Eventually, Sweeney says the police will be able to join the eTrace technology with firearms import data held by the New Zealand Customs. </p>"
      ],
      "text/plain": [
       "<IPython.core.display.HTML object>"
      ]
     },
     "metadata": {},
     "output_type": "display_data"
    },
    {
     "data": {
      "text/html": [
       "<p>  </p>"
      ],
      "text/plain": [
       "<IPython.core.display.HTML object>"
      ]
     },
     "metadata": {},
     "output_type": "display_data"
    },
    {
     "data": {
      "text/html": [
       "<p> This new focus on the illicit supply chains is being closely co-ordinated with the tightening of regulations in the wake of the Christchurch terror attacks. </p>"
      ],
      "text/plain": [
       "<IPython.core.display.HTML object>"
      ]
     },
     "metadata": {},
     "output_type": "display_data"
    },
    {
     "data": {
      "text/html": [
       "<p>  </p>"
      ],
      "text/plain": [
       "<IPython.core.display.HTML object>"
      ]
     },
     "metadata": {},
     "output_type": "display_data"
    },
    {
     "data": {
      "text/html": [
       "<p> As well as banning semi-automatic weapons, the Labour Government introduced a national firearms register as part of its wider gun reforms, in a project led by Superintendent Richard Wilson. </p>"
      ],
      "text/plain": [
       "<IPython.core.display.HTML object>"
      ]
     },
     "metadata": {},
     "output_type": "display_data"
    },
    {
     "data": {
      "text/html": [
       "<p>  </p>"
      ],
      "text/plain": [
       "<IPython.core.display.HTML object>"
      ]
     },
     "metadata": {},
     "output_type": "display_data"
    },
    {
     "data": {
      "text/html": [
       "<p> From June next year, each individual firearm will need to be registered to a licence holder. The loophole which allowed the private sale of firearms without recording the details of the new owner will also be closed. </p>"
      ],
      "text/plain": [
       "<IPython.core.display.HTML object>"
      ]
     },
     "metadata": {},
     "output_type": "display_data"
    },
    {
     "data": {
      "text/html": [
       "<p>  </p>"
      ],
      "text/plain": [
       "<IPython.core.display.HTML object>"
      ]
     },
     "metadata": {},
     "output_type": "display_data"
    },
    {
     "data": {
      "text/html": [
       "<p> \"At the moment, the firearms ecosystem where legitimately purchased firearms become illicit is a big grey zone,\" Wilson said. </p>"
      ],
      "text/plain": [
       "<IPython.core.display.HTML object>"
      ]
     },
     "metadata": {},
     "output_type": "display_data"
    },
    {
     "data": {
      "text/html": [
       "<p>  </p>"
      ],
      "text/plain": [
       "<IPython.core.display.HTML object>"
      ]
     },
     "metadata": {},
     "output_type": "display_data"
    },
    {
     "data": {
      "text/html": [
       "<p> \"The requirement to register those firearms soon will allow us to track those guns, whether they've been burgled or sold, and give us a really good picture.\" </p>"
      ],
      "text/plain": [
       "<IPython.core.display.HTML object>"
      ]
     },
     "metadata": {},
     "output_type": "display_data"
    },
    {
     "data": {
      "text/html": [
       "<p>  </p>"
      ],
      "text/plain": [
       "<IPython.core.display.HTML object>"
      ]
     },
     "metadata": {},
     "output_type": "display_data"
    },
    {
     "data": {
      "text/html": [
       "<p> Both Sweeney and Wilson were mindful of the impact of the changes on law-abiding gun owners and praised the cooperation of the retailers across the country. </p>"
      ],
      "text/plain": [
       "<IPython.core.display.HTML object>"
      ]
     },
     "metadata": {},
     "output_type": "display_data"
    },
    {
     "data": {
      "text/html": [
       "<p>  </p>"
      ],
      "text/plain": [
       "<IPython.core.display.HTML object>"
      ]
     },
     "metadata": {},
     "output_type": "display_data"
    },
    {
     "data": {
      "text/html": [
       "<p> With so many firearms already available to gangs and organised crime, the police officers were also aware that the stricter regulations and focus on firearms would take time to bear fruit. </p>"
      ],
      "text/plain": [
       "<IPython.core.display.HTML object>"
      ]
     },
     "metadata": {},
     "output_type": "display_data"
    },
    {
     "data": {
      "text/html": [
       "<p>  </p>"
      ],
      "text/plain": [
       "<IPython.core.display.HTML object>"
      ]
     },
     "metadata": {},
     "output_type": "display_data"
    },
    {
     "data": {
      "text/html": [
       "<p> \"We'll still continue to pull firearms out of the back of cars at vehicle checks and the like for the foreseeable future,\" said Wilson. </p>"
      ],
      "text/plain": [
       "<IPython.core.display.HTML object>"
      ]
     },
     "metadata": {},
     "output_type": "display_data"
    },
    {
     "data": {
      "text/html": [
       "<p>  </p>"
      ],
      "text/plain": [
       "<IPython.core.display.HTML object>"
      ]
     },
     "metadata": {},
     "output_type": "display_data"
    },
    {
     "data": {
      "text/html": [
       "<p> \"We need to understand the breadth and depth of the black market. But ultimately these measures we're putting in place will make the country safer.\" </p>"
      ],
      "text/plain": [
       "<IPython.core.display.HTML object>"
      ]
     },
     "metadata": {},
     "output_type": "display_data"
    },
    {
     "data": {
      "text/html": [
       "<p>  </p>"
      ],
      "text/plain": [
       "<IPython.core.display.HTML object>"
      ]
     },
     "metadata": {},
     "output_type": "display_data"
    }
   ],
   "source": [
    "NZHarold()\n"
   ]
  },
  {
   "cell_type": "code",
   "execution_count": null,
   "id": "49a74752",
   "metadata": {
    "scrolled": true
   },
   "outputs": [],
   "source": []
  },
  {
   "cell_type": "code",
   "execution_count": null,
   "id": "2c4369ae",
   "metadata": {
    "collapsed": true,
    "scrolled": true
   },
   "outputs": [],
   "source": []
  }
 ],
 "metadata": {
  "kernelspec": {
   "display_name": "Python 3 (ipykernel)",
   "language": "python",
   "name": "python3"
  },
  "language_info": {
   "codemirror_mode": {
    "name": "ipython",
    "version": 3
   },
   "file_extension": ".py",
   "mimetype": "text/x-python",
   "name": "python",
   "nbconvert_exporter": "python",
   "pygments_lexer": "ipython3",
   "version": "3.9.7"
  }
 },
 "nbformat": 4,
 "nbformat_minor": 5
}
