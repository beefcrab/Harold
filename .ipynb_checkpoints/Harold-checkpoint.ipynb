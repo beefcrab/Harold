{
 "cells": [
  {
   "cell_type": "markdown",
   "id": "31b2165e-b07b-451e-8448-fd84e8692b71",
   "metadata": {},
   "source": [
    "##Harold Articles \n"
   ]
  },
  {
   "cell_type": "code",
   "execution_count": 1,
   "id": "9373f2ef-ea75-4e1c-bb20-e7eb0947f9ef",
   "metadata": {
    "scrolled": true
   },
   "outputs": [],
   "source": [
    "#libaries\n",
    "from bs4 import BeautifulSoup\n",
    "from IPython.core.display import display, HTML\n",
    "import requests\n",
    "import json"
   ]
  },
  {
   "cell_type": "code",
   "execution_count": 2,
   "id": "47f97450-564b-433d-9c07-1eef7a836561",
   "metadata": {
    "scrolled": true
   },
   "outputs": [],
   "source": [
    "#find class value, NZherald changes this value every 24 hours.\n",
    "\n",
    "def findClass(soup):    \n",
    "    #<script> tag contains the css selector value\n",
    "    data = json.loads(soup.find('script', type='application/ld+json').text)\n",
    "    print (data['hasPart'][0]['cssSelector'][1:])\n",
    "    className = data['hasPart'][0]['cssSelector'][1:]\n",
    "    return className\n",
    "\n",
    "\n"
   ]
  },
  {
   "cell_type": "code",
   "execution_count": 3,
   "id": "72156c21-86ca-45dc-aa12-6d6314e64288",
   "metadata": {
    "scrolled": true
   },
   "outputs": [],
   "source": [
    "def NZHarold():\n",
    "    url = input(\"Enter NZhearld URL: \")\n",
    "    \n",
    "    #soup it\n",
    "    r = requests.get(url)\n",
    "    soup = BeautifulSoup(r.text, 'html.parser')\n",
    "    \n",
    "    #find hidden class\n",
    "    classValue = findClass(soup)\n",
    "    \n",
    "    ##get contents\n",
    "    \n",
    "    #title\n",
    "    if soup.find(\"h1\",{\"class\":\"article-bigread__heading\"}):\n",
    "        #if big read article\n",
    "        title = soup.find(\"h1\",{\"class\":\"article-bigread__heading\"}).text\n",
    "    elif soup.find(\"h1\",{\"class\":\"article__heading\"}):\n",
    "        #normal article\n",
    "        title = soup.find(\"h1\",{\"class\":\"article__heading\"}).text\n",
    "    else:\n",
    "        title = \"No title\"\n",
    "        \n",
    "    #get intro text.\n",
    "    startText = None\n",
    "    if soup.find(\"span\",{\"class\":\"ellipsis\"}):\n",
    "        span = True\n",
    "        findSpanA = soup.find(\"span\",{\"class\":\"ellipsis\"}).text\n",
    "        findSpanB = soup.find(\"span\",{\"class\":classValue}).text \n",
    "        startText = findSpanA + \" \" + findSpanB\n",
    "    else:\n",
    "        span = False\n",
    "        startText = \" \"\n",
    "        findArticle = soup.find(\"section\",{\"data-test-ui\":\"article__body\"})\n",
    "        findStart = findArticle.find_all(\"p\",{\"class\":\"\"})\n",
    "    \n",
    "    #text body\n",
    "    findText = soup.find_all([\"p\",\"h2\", \"div\"],{\"class\":classValue})\n",
    "    \n",
    "    display(HTML('<h1> %s </h1>' % title))\n",
    "    display(HTML('<p>  </p>'))\n",
    "    \n",
    "    if span:\n",
    "        display(HTML('<p> %s </p>' % startText))\n",
    "    else:\n",
    "        for i in findStart:\n",
    "            display(HTML('<p> %s </p>' % i.text))\n",
    "        \n",
    "    \n",
    "    display(HTML('<p>  </p>'))\n",
    "    for i in findText:\n",
    "        #sub-headings\n",
    "        if i.name == \"h2\":\n",
    "            display(HTML('<h2> %s </h2>' % i.text))\n",
    "        # text\n",
    "        elif i.name == \"p\":\n",
    "            display(HTML('<p> %s </p>' % i.text))\n",
    "            display(HTML('<p>  </p>'))\n",
    "                \n",
    "            \n",
    "\n",
    "        ##images\n",
    "        elif i.name == \"div\":\n",
    "            #get 730px resolution image for display which is the 4th item in the array\n",
    "            if i.find(\"img\"):\n",
    "                images = i.find(\"img\")[\"data-srcset\"]\n",
    "                image = images.split(\",\")\n",
    "                imgUrl = image[3].split(\" \")[0]\n",
    "                display(HTML('<img src=\"%s\" alt=\"\" width=\"500\" height=\"600\">' % imgUrl))\n",
    "      \n",
    "            \n",
    "\n",
    "\n",
    "\n",
    "    \n",
    "    "
   ]
  },
  {
   "cell_type": "code",
   "execution_count": 4,
   "id": "bec1afee-bf5e-4d87-adea-dc9cbad48061",
   "metadata": {
    "slideshow": {
     "slide_type": "-"
    }
   },
   "outputs": [
    {
     "name": "stdout",
     "output_type": "stream",
     "text": [
      "Enter NZhearld URL: https://www.nzherald.co.nz/business/how-rakon-got-its-groove-back-and-its-future-in-space/ER7UPFKL35ERGCI3JANM73NDVI/\n",
      "GNtXBnLfh\n"
     ]
    },
    {
     "data": {
      "text/html": [
       "<h1> How Rakon got its groove back - and its future in space </h1>"
      ],
      "text/plain": [
       "<IPython.core.display.HTML object>"
      ]
     },
     "metadata": {},
     "output_type": "display_data"
    },
    {
     "data": {
      "text/html": [
       "<p>  </p>"
      ],
      "text/plain": [
       "<IPython.core.display.HTML object>"
      ]
     },
     "metadata": {},
     "output_type": "display_data"
    },
    {
     "data": {
      "text/html": [
       "<p> Robinson told the Herald that manufacturing its own chips had given Rakon a competitive advantage amid Covid-induced shortages - and helped its margins. \"We haven't had this much pricing power in years,\" he says. </p>"
      ],
      "text/plain": [
       "<IPython.core.display.HTML object>"
      ]
     },
     "metadata": {},
     "output_type": "display_data"
    },
    {
     "data": {
      "text/html": [
       "<p>  </p>"
      ],
      "text/plain": [
       "<IPython.core.display.HTML object>"
      ]
     },
     "metadata": {},
     "output_type": "display_data"
    },
    {
     "data": {
      "text/html": [
       "<p> And more broadly, he says Rakon's recent boom has been more tied to its core business of making advanced frequency control and timing solutions - which have seen a spike in demand with 5G rollouts and the data boom. </p>"
      ],
      "text/plain": [
       "<IPython.core.display.HTML object>"
      ]
     },
     "metadata": {},
     "output_type": "display_data"
    },
    {
     "data": {
      "text/html": [
       "<p>  </p>"
      ],
      "text/plain": [
       "<IPython.core.display.HTML object>"
      ]
     },
     "metadata": {},
     "output_type": "display_data"
    },
    {
     "data": {
      "text/html": [
       "<p> Robinson says it's hard to pick how long chip shortages will remain. \"It could be another 12 months.\" But telcos will be expanding their 5G networks for years to come, and the cloud computing-fuelled data centre boom is just getting going. </p>"
      ],
      "text/plain": [
       "<IPython.core.display.HTML object>"
      ]
     },
     "metadata": {},
     "output_type": "display_data"
    },
    {
     "data": {
      "text/html": [
       "<p>  </p>"
      ],
      "text/plain": [
       "<IPython.core.display.HTML object>"
      ]
     },
     "metadata": {},
     "output_type": "display_data"
    },
    {
     "data": {
      "text/html": [
       "<p> \"Our plant in India is almost fully booked for next year - and that has nothing to do with the chip shortage - that's our core business,\" Robinson told the Herald. </p>"
      ],
      "text/plain": [
       "<IPython.core.display.HTML object>"
      ]
     },
     "metadata": {},
     "output_type": "display_data"
    },
    {
     "data": {
      "text/html": [
       "<p>  </p>"
      ],
      "text/plain": [
       "<IPython.core.display.HTML object>"
      ]
     },
     "metadata": {},
     "output_type": "display_data"
    },
    {
     "data": {
      "text/html": [
       "<p> The Rakon boss sees space as a big future growth area. </p>"
      ],
      "text/plain": [
       "<IPython.core.display.HTML object>"
      ]
     },
     "metadata": {},
     "output_type": "display_data"
    },
    {
     "data": {
      "text/html": [
       "<p>  </p>"
      ],
      "text/plain": [
       "<IPython.core.display.HTML object>"
      ]
     },
     "metadata": {},
     "output_type": "display_data"
    },
    {
     "data": {
      "text/html": [
       "<p> His company already supplies components for Nasa (Rakon kit is in the latest Mars rover) and for low-Earth orbit satellites. Rocket Lab and SpaceX are both customers. \"But we want to move up the food chain to supply whole subsystems,\" Robinson says. </p>"
      ],
      "text/plain": [
       "<IPython.core.display.HTML object>"
      ]
     },
     "metadata": {},
     "output_type": "display_data"
    },
    {
     "data": {
      "text/html": [
       "<p>  </p>"
      ],
      "text/plain": [
       "<IPython.core.display.HTML object>"
      ]
     },
     "metadata": {},
     "output_type": "display_data"
    },
    {
     "data": {
      "text/html": [
       "<img src=\"https://www.nzherald.co.nz/resizer/MHh9lbW-Bqwpt5u_Fodqfon4DH4=/768x432/smart/filters:quality(70)/cloudfront-ap-southeast-2.images.arcpublishing.com/nzme/T7CYJBSR6D5JFBW7VUA7JO6LAY.jpg\" alt=\"\" width=\"500\" height=\"600\">"
      ],
      "text/plain": [
       "<IPython.core.display.HTML object>"
      ]
     },
     "metadata": {},
     "output_type": "display_data"
    },
    {
     "data": {
      "text/html": [
       "<p> Moving up the food chain has been a big theme of the past few years. </p>"
      ],
      "text/plain": [
       "<IPython.core.display.HTML object>"
      ]
     },
     "metadata": {},
     "output_type": "display_data"
    },
    {
     "data": {
      "text/html": [
       "<p>  </p>"
      ],
      "text/plain": [
       "<IPython.core.display.HTML object>"
      ]
     },
     "metadata": {},
     "output_type": "display_data"
    },
    {
     "data": {
      "text/html": [
       "<p> This is Rakon's second time as an NZX darling. </p>"
      ],
      "text/plain": [
       "<IPython.core.display.HTML object>"
      ]
     },
     "metadata": {},
     "output_type": "display_data"
    },
    {
     "data": {
      "text/html": [
       "<p>  </p>"
      ],
      "text/plain": [
       "<IPython.core.display.HTML object>"
      ]
     },
     "metadata": {},
     "output_type": "display_data"
    },
    {
     "data": {
      "text/html": [
       "<p> The first was during the 2000s as it rode the first wave of the smartphone boom. </p>"
      ],
      "text/plain": [
       "<IPython.core.display.HTML object>"
      ]
     },
     "metadata": {},
     "output_type": "display_data"
    },
    {
     "data": {
      "text/html": [
       "<p>  </p>"
      ],
      "text/plain": [
       "<IPython.core.display.HTML object>"
      ]
     },
     "metadata": {},
     "output_type": "display_data"
    },
    {
     "data": {
      "text/html": [
       "<p> It's been a long time between drinks, but Robinson said years were required to retool and reposition. </p>"
      ],
      "text/plain": [
       "<IPython.core.display.HTML object>"
      ]
     },
     "metadata": {},
     "output_type": "display_data"
    },
    {
     "data": {
      "text/html": [
       "<p>  </p>"
      ],
      "text/plain": [
       "<IPython.core.display.HTML object>"
      ]
     },
     "metadata": {},
     "output_type": "display_data"
    },
    {
     "data": {
      "text/html": [
       "<p> \"We really changed from working with companies like Apple [with its iPhone] and that kind of commoditised products and went to the higher ground and started developing products for industrial applications; cutting-edge applications for new customers.\" </p>"
      ],
      "text/plain": [
       "<IPython.core.display.HTML object>"
      ]
     },
     "metadata": {},
     "output_type": "display_data"
    },
    {
     "data": {
      "text/html": [
       "<p>  </p>"
      ],
      "text/plain": [
       "<IPython.core.display.HTML object>"
      ]
     },
     "metadata": {},
     "output_type": "display_data"
    },
    {
     "data": {
      "text/html": [
       "<p> How does Rakon fit into a data centre? In part, its kit is used in the telecommunications gear that connects them. </p>"
      ],
      "text/plain": [
       "<IPython.core.display.HTML object>"
      ]
     },
     "metadata": {},
     "output_type": "display_data"
    },
    {
     "data": {
      "text/html": [
       "<p>  </p>"
      ],
      "text/plain": [
       "<IPython.core.display.HTML object>"
      ]
     },
     "metadata": {},
     "output_type": "display_data"
    },
    {
     "data": {
      "text/html": [
       "<p> \"But typically what we're referring to is the data centres themselves. There are a lot of applications now where they have to be time-synchronous. A lot of financial transactions need to be within micro-second accuracy.\" </p>"
      ],
      "text/plain": [
       "<IPython.core.display.HTML object>"
      ]
     },
     "metadata": {},
     "output_type": "display_data"
    },
    {
     "data": {
      "text/html": [
       "<p>  </p>"
      ],
      "text/plain": [
       "<IPython.core.display.HTML object>"
      ]
     },
     "metadata": {},
     "output_type": "display_data"
    },
    {
     "data": {
      "text/html": [
       "<p> And right synchronicity is also required to make the broadband tick. </p>"
      ],
      "text/plain": [
       "<IPython.core.display.HTML object>"
      ]
     },
     "metadata": {},
     "output_type": "display_data"
    },
    {
     "data": {
      "text/html": [
       "<p>  </p>"
      ],
      "text/plain": [
       "<IPython.core.display.HTML object>"
      ]
     },
     "metadata": {},
     "output_type": "display_data"
    },
    {
     "data": {
      "text/html": [
       "<p> \"So there's a number of drivers making companies like Google and Amazon synchronise their data centres with each other down to the microsecond.\" (Although he name-checked Google and Amazon as technical examples, Robinson said he could not name any customers, and that he could not confirm or deny if the tech giants were on Rakon's books. He did offer, \"We sell to Tier-1 data centre operators.\" </p>"
      ],
      "text/plain": [
       "<IPython.core.display.HTML object>"
      ]
     },
     "metadata": {},
     "output_type": "display_data"
    },
    {
     "data": {
      "text/html": [
       "<p>  </p>"
      ],
      "text/plain": [
       "<IPython.core.display.HTML object>"
      ]
     },
     "metadata": {},
     "output_type": "display_data"
    },
    {
     "data": {
      "text/html": [
       "<img src=\"https://www.nzherald.co.nz/resizer/M4kjZ1aXhdnUzbt0zm6oZ9t6K5U=/768x432/smart/filters:quality(70)/cloudfront-ap-southeast-2.images.arcpublishing.com/nzme/23VW2WQKBVGQOHQVUARW2WE63Y.jpg\" alt=\"\" width=\"500\" height=\"600\">"
      ],
      "text/plain": [
       "<IPython.core.display.HTML object>"
      ]
     },
     "metadata": {},
     "output_type": "display_data"
    },
    {
     "data": {
      "text/html": [
       "<p> Evidence of the data centre boom is now on NZ's doorstep, with Amazon's recent announcement that it would hire 1000 Kiwis and spend $7.5 billion over 15 years on giant data centres in Auckland. </p>"
      ],
      "text/plain": [
       "<IPython.core.display.HTML object>"
      ]
     },
     "metadata": {},
     "output_type": "display_data"
    },
    {
     "data": {
      "text/html": [
       "<p>  </p>"
      ],
      "text/plain": [
       "<IPython.core.display.HTML object>"
      ]
     },
     "metadata": {},
     "output_type": "display_data"
    },
    {
     "data": {
      "text/html": [
       "<p> Microsoft (three, price undisclosed) and half-Infratil owned CDC (two at more than $300m) already have \"hyperscale\" data centre builds under way in northwest Auckland, while richlister Malcolm Dick is planning a $700m server farm for Southland. </p>"
      ],
      "text/plain": [
       "<IPython.core.display.HTML object>"
      ]
     },
     "metadata": {},
     "output_type": "display_data"
    },
    {
     "data": {
      "text/html": [
       "<p>  </p>"
      ],
      "text/plain": [
       "<IPython.core.display.HTML object>"
      ]
     },
     "metadata": {},
     "output_type": "display_data"
    },
    {
     "data": {
      "text/html": [
       "<h2> Profit triples, bullish full-year guidance confirmed </h2>"
      ],
      "text/plain": [
       "<IPython.core.display.HTML object>"
      ]
     },
     "metadata": {},
     "output_type": "display_data"
    },
    {
     "data": {
      "text/html": [
       "<p> Earlier this morning, Rakon reported a first-half net profit of $18.9m from last year's $4.6m, and confirmed its twice-increased profit forecast of full-year operating earnings between $44m and $49m. </p>"
      ],
      "text/plain": [
       "<IPython.core.display.HTML object>"
      ]
     },
     "metadata": {},
     "output_type": "display_data"
    },
    {
     "data": {
      "text/html": [
       "<p>  </p>"
      ],
      "text/plain": [
       "<IPython.core.display.HTML object>"
      ]
     },
     "metadata": {},
     "output_type": "display_data"
    },
    {
     "data": {
      "text/html": [
       "<p> Underlying ebitda improved to $26.4m from $11.4m in the first half of FY2021. </p>"
      ],
      "text/plain": [
       "<IPython.core.display.HTML object>"
      ]
     },
     "metadata": {},
     "output_type": "display_data"
    },
    {
     "data": {
      "text/html": [
       "<p>  </p>"
      ],
      "text/plain": [
       "<IPython.core.display.HTML object>"
      ]
     },
     "metadata": {},
     "output_type": "display_data"
    },
    {
     "data": {
      "text/html": [
       "<p> Revenue increased to $85.4m, vs the prior period's $59.5m. </p>"
      ],
      "text/plain": [
       "<IPython.core.display.HTML object>"
      ]
     },
     "metadata": {},
     "output_type": "display_data"
    },
    {
     "data": {
      "text/html": [
       "<p>  </p>"
      ],
      "text/plain": [
       "<IPython.core.display.HTML object>"
      ]
     },
     "metadata": {},
     "output_type": "display_data"
    },
    {
     "data": {
      "text/html": [
       "<p> Robinson said his company's surging business was down to a boom in 5G and data centres, plus Rakon benefiting from the global chip shortage - which has some rival technology providers on the back foot and has driven up prices. </p>"
      ],
      "text/plain": [
       "<IPython.core.display.HTML object>"
      ]
     },
     "metadata": {},
     "output_type": "display_data"
    },
    {
     "data": {
      "text/html": [
       "<p>  </p>"
      ],
      "text/plain": [
       "<IPython.core.display.HTML object>"
      ]
     },
     "metadata": {},
     "output_type": "display_data"
    },
    {
     "data": {
      "text/html": [
       "<p> Output from the company's New Zealand operation was at record levels, Robinson said. </p>"
      ],
      "text/plain": [
       "<IPython.core.display.HTML object>"
      ]
     },
     "metadata": {},
     "output_type": "display_data"
    },
    {
     "data": {
      "text/html": [
       "<p>  </p>"
      ],
      "text/plain": [
       "<IPython.core.display.HTML object>"
      ]
     },
     "metadata": {},
     "output_type": "display_data"
    },
    {
     "data": {
      "text/html": [
       "<img src=\"https://www.nzherald.co.nz/resizer/pH55G1m-A1otB0MAp2enFsaTNRE=/768x771/smart/filters:quality(70)/cloudfront-ap-southeast-2.images.arcpublishing.com/nzme/YC6YPZESR3TYFLU5GEJTSDQKHE.jpg\" alt=\"\" width=\"500\" height=\"600\">"
      ],
      "text/plain": [
       "<IPython.core.display.HTML object>"
      ]
     },
     "metadata": {},
     "output_type": "display_data"
    },
    {
     "data": {
      "text/html": [
       "<p> Rakon shares fell 5.6 per cent after today's results, giving up some of the recent gains, and were at $1.70 by early afternoon. </p>"
      ],
      "text/plain": [
       "<IPython.core.display.HTML object>"
      ]
     },
     "metadata": {},
     "output_type": "display_data"
    },
    {
     "data": {
      "text/html": [
       "<p>  </p>"
      ],
      "text/plain": [
       "<IPython.core.display.HTML object>"
      ]
     },
     "metadata": {},
     "output_type": "display_data"
    },
    {
     "data": {
      "text/html": [
       "<p> The stock is still up 344 per cent for the year, if still some distance from its 2000s heyday when it touched $5. </p>"
      ],
      "text/plain": [
       "<IPython.core.display.HTML object>"
      ]
     },
     "metadata": {},
     "output_type": "display_data"
    },
    {
     "data": {
      "text/html": [
       "<p>  </p>"
      ],
      "text/plain": [
       "<IPython.core.display.HTML object>"
      ]
     },
     "metadata": {},
     "output_type": "display_data"
    }
   ],
   "source": [
    "NZHarold()\n"
   ]
  },
  {
   "cell_type": "code",
   "execution_count": null,
   "id": "49a74752",
   "metadata": {},
   "outputs": [],
   "source": []
  },
  {
   "cell_type": "code",
   "execution_count": null,
   "id": "2c4369ae",
   "metadata": {},
   "outputs": [],
   "source": []
  }
 ],
 "metadata": {
  "kernelspec": {
   "display_name": "Python 3 (ipykernel)",
   "language": "python",
   "name": "python3"
  },
  "language_info": {
   "codemirror_mode": {
    "name": "ipython",
    "version": 3
   },
   "file_extension": ".py",
   "mimetype": "text/x-python",
   "name": "python",
   "nbconvert_exporter": "python",
   "pygments_lexer": "ipython3",
   "version": "3.9.7"
  }
 },
 "nbformat": 4,
 "nbformat_minor": 5
}
