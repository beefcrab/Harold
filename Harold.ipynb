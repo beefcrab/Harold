{
 "cells": [
  {
   "cell_type": "markdown",
   "id": "31b2165e-b07b-451e-8448-fd84e8692b71",
   "metadata": {},
   "source": [
    "##Harold Articles \n"
   ]
  },
  {
   "cell_type": "code",
   "execution_count": 1,
   "id": "9373f2ef-ea75-4e1c-bb20-e7eb0947f9ef",
   "metadata": {
    "collapsed": true,
    "scrolled": true
   },
   "outputs": [],
   "source": [
    "#libaries\n",
    "from bs4 import BeautifulSoup\n",
    "from IPython.core.display import display, HTML\n",
    "import requests\n",
    "import json"
   ]
  },
  {
   "cell_type": "code",
   "execution_count": 2,
   "id": "47f97450-564b-433d-9c07-1eef7a836561",
   "metadata": {
    "collapsed": true,
    "scrolled": true
   },
   "outputs": [],
   "source": [
    "#find class value, NZherald changes this value every 24 hours.\n",
    "\n",
    "def findClass(soup):    \n",
    "    #<script> tag contains the css selector value\n",
    "    data = json.loads(soup.find('script', type='application/ld+json').text)\n",
    "    print (data['hasPart'][0]['cssSelector'][1:])\n",
    "    className = data['hasPart'][0]['cssSelector'][1:]\n",
    "    return className\n",
    "\n",
    "\n"
   ]
  },
  {
   "cell_type": "code",
   "execution_count": 3,
   "id": "72156c21-86ca-45dc-aa12-6d6314e64288",
   "metadata": {
    "collapsed": true,
    "scrolled": true
   },
   "outputs": [],
   "source": [
    "def NZHarold():\n",
    "    url = input(\"Enter NZhearld URL: \")\n",
    "    \n",
    "    #soup it\n",
    "    r = requests.get(url)\n",
    "    soup = BeautifulSoup(r.text, 'html.parser')\n",
    "    \n",
    "    #find hidden class\n",
    "    classValue = findClass(soup)\n",
    "    \n",
    "    ##get contents\n",
    "    \n",
    "    #title\n",
    "    if soup.find(\"h1\",{\"class\":\"article-bigread__heading\"}):\n",
    "        #if big read article\n",
    "        title = soup.find(\"h1\",{\"class\":\"article-bigread__heading\"}).text\n",
    "    elif soup.find(\"h1\",{\"class\":\"article__heading\"}):\n",
    "        #normal article\n",
    "        title = soup.find(\"h1\",{\"class\":\"article__heading\"}).text\n",
    "    else:\n",
    "        title = \"No title\"\n",
    "        \n",
    "    #get intro text.\n",
    "    startText = None\n",
    "    if soup.find(\"span\",{\"class\":\"ellipsis\"}):\n",
    "        span = True\n",
    "        findSpanA = soup.find(\"span\",{\"class\":\"ellipsis\"}).text\n",
    "        findSpanB = soup.find(\"span\",{\"class\":classValue}).text \n",
    "        startText = findSpanA + \" \" + findSpanB\n",
    "    else:\n",
    "        span = False\n",
    "        startText = \" \"\n",
    "        findArticle = soup.find(\"section\",{\"data-test-ui\":\"article__body\"})\n",
    "        findStart = findArticle.find_all(\"p\",{\"class\":\"\"})\n",
    "    \n",
    "    #text body\n",
    "    findText = soup.find_all([\"p\",\"h2\", \"div\"],{\"class\":classValue})\n",
    "    \n",
    "    display(HTML('<h1> %s </h1>' % title))\n",
    "    display(HTML('<p>  </p>'))\n",
    "    \n",
    "    if span:\n",
    "        display(HTML('<p> %s </p>' % startText))\n",
    "    else:\n",
    "        for i in findStart:\n",
    "            display(HTML('<p> %s </p>' % i.text))\n",
    "        \n",
    "    \n",
    "    display(HTML('<p>  </p>'))\n",
    "    for i in findText:\n",
    "        #sub-headings\n",
    "        if i.name == \"h2\":\n",
    "            display(HTML('<h2> %s </h2>' % i.text))\n",
    "        # text\n",
    "        elif i.name == \"p\":\n",
    "            display(HTML('<p> %s </p>' % i.text))\n",
    "            display(HTML('<p>  </p>'))\n",
    "                \n",
    "            \n",
    "\n",
    "        ##images\n",
    "        elif i.name == \"div\":\n",
    "            #get 730px resolution image for display which is the 4th item in the array\n",
    "            if i.find(\"img\"):\n",
    "                images = i.find(\"img\")[\"data-srcset\"]\n",
    "                image = images.split(\",\")\n",
    "                imgUrl = image[3].split(\" \")[0]\n",
    "                display(HTML('<img src=\"%s\" alt=\"\" width=\"500\" height=\"600\">' % imgUrl))\n",
    "      \n",
    "            \n",
    "\n",
    "\n",
    "\n",
    "    \n",
    "    "
   ]
  },
  {
   "cell_type": "code",
   "execution_count": 6,
   "id": "e72f39c2",
   "metadata": {
    "scrolled": false,
    "slideshow": {
     "slide_type": "-"
    }
   },
   "outputs": [
    {
     "name": "stdout",
     "output_type": "stream",
     "text": [
      "Enter NZhearld URL: https://www.nzherald.co.nz/nz/the-front-page-podcast-russia-will-never-be-able-to-break-ukraines-spirit-says-kiwi-war-journalist/G2DEZL775JMV7IWQM26A45TC3E/\n"
     ]
    },
    {
     "ename": "KeyError",
     "evalue": "'hasPart'",
     "output_type": "error",
     "traceback": [
      "\u001b[0;31m---------------------------------------------------------------------------\u001b[0m",
      "\u001b[0;31mKeyError\u001b[0m                                  Traceback (most recent call last)",
      "\u001b[0;32m/var/folders/s7/6b2gk1216yg4_tx4slxz3nxm0000gn/T/ipykernel_1240/4156986239.py\u001b[0m in \u001b[0;36m<module>\u001b[0;34m\u001b[0m\n\u001b[0;32m----> 1\u001b[0;31m \u001b[0mNZHarold\u001b[0m\u001b[0;34m(\u001b[0m\u001b[0;34m)\u001b[0m\u001b[0;34m\u001b[0m\u001b[0;34m\u001b[0m\u001b[0m\n\u001b[0m",
      "\u001b[0;32m/var/folders/s7/6b2gk1216yg4_tx4slxz3nxm0000gn/T/ipykernel_1240/3445024854.py\u001b[0m in \u001b[0;36mNZHarold\u001b[0;34m()\u001b[0m\n\u001b[1;32m      7\u001b[0m \u001b[0;34m\u001b[0m\u001b[0m\n\u001b[1;32m      8\u001b[0m     \u001b[0;31m#find hidden class\u001b[0m\u001b[0;34m\u001b[0m\u001b[0;34m\u001b[0m\u001b[0m\n\u001b[0;32m----> 9\u001b[0;31m     \u001b[0mclassValue\u001b[0m \u001b[0;34m=\u001b[0m \u001b[0mfindClass\u001b[0m\u001b[0;34m(\u001b[0m\u001b[0msoup\u001b[0m\u001b[0;34m)\u001b[0m\u001b[0;34m\u001b[0m\u001b[0;34m\u001b[0m\u001b[0m\n\u001b[0m\u001b[1;32m     10\u001b[0m \u001b[0;34m\u001b[0m\u001b[0m\n\u001b[1;32m     11\u001b[0m     \u001b[0;31m##get contents\u001b[0m\u001b[0;34m\u001b[0m\u001b[0;34m\u001b[0m\u001b[0m\n",
      "\u001b[0;32m/var/folders/s7/6b2gk1216yg4_tx4slxz3nxm0000gn/T/ipykernel_1240/274198372.py\u001b[0m in \u001b[0;36mfindClass\u001b[0;34m(soup)\u001b[0m\n\u001b[1;32m      4\u001b[0m     \u001b[0;31m#<script> tag contains the css selector value\u001b[0m\u001b[0;34m\u001b[0m\u001b[0;34m\u001b[0m\u001b[0m\n\u001b[1;32m      5\u001b[0m     \u001b[0mdata\u001b[0m \u001b[0;34m=\u001b[0m \u001b[0mjson\u001b[0m\u001b[0;34m.\u001b[0m\u001b[0mloads\u001b[0m\u001b[0;34m(\u001b[0m\u001b[0msoup\u001b[0m\u001b[0;34m.\u001b[0m\u001b[0mfind\u001b[0m\u001b[0;34m(\u001b[0m\u001b[0;34m'script'\u001b[0m\u001b[0;34m,\u001b[0m \u001b[0mtype\u001b[0m\u001b[0;34m=\u001b[0m\u001b[0;34m'application/ld+json'\u001b[0m\u001b[0;34m)\u001b[0m\u001b[0;34m.\u001b[0m\u001b[0mtext\u001b[0m\u001b[0;34m)\u001b[0m\u001b[0;34m\u001b[0m\u001b[0;34m\u001b[0m\u001b[0m\n\u001b[0;32m----> 6\u001b[0;31m     \u001b[0mprint\u001b[0m \u001b[0;34m(\u001b[0m\u001b[0mdata\u001b[0m\u001b[0;34m[\u001b[0m\u001b[0;34m'hasPart'\u001b[0m\u001b[0;34m]\u001b[0m\u001b[0;34m[\u001b[0m\u001b[0;36m0\u001b[0m\u001b[0;34m]\u001b[0m\u001b[0;34m[\u001b[0m\u001b[0;34m'cssSelector'\u001b[0m\u001b[0;34m]\u001b[0m\u001b[0;34m[\u001b[0m\u001b[0;36m1\u001b[0m\u001b[0;34m:\u001b[0m\u001b[0;34m]\u001b[0m\u001b[0;34m)\u001b[0m\u001b[0;34m\u001b[0m\u001b[0;34m\u001b[0m\u001b[0m\n\u001b[0m\u001b[1;32m      7\u001b[0m     \u001b[0mclassName\u001b[0m \u001b[0;34m=\u001b[0m \u001b[0mdata\u001b[0m\u001b[0;34m[\u001b[0m\u001b[0;34m'hasPart'\u001b[0m\u001b[0;34m]\u001b[0m\u001b[0;34m[\u001b[0m\u001b[0;36m0\u001b[0m\u001b[0;34m]\u001b[0m\u001b[0;34m[\u001b[0m\u001b[0;34m'cssSelector'\u001b[0m\u001b[0;34m]\u001b[0m\u001b[0;34m[\u001b[0m\u001b[0;36m1\u001b[0m\u001b[0;34m:\u001b[0m\u001b[0;34m]\u001b[0m\u001b[0;34m\u001b[0m\u001b[0;34m\u001b[0m\u001b[0m\n\u001b[1;32m      8\u001b[0m     \u001b[0;32mreturn\u001b[0m \u001b[0mclassName\u001b[0m\u001b[0;34m\u001b[0m\u001b[0;34m\u001b[0m\u001b[0m\n",
      "\u001b[0;31mKeyError\u001b[0m: 'hasPart'"
     ]
    }
   ],
   "source": [
    "NZHarold()\n"
   ]
  },
  {
   "cell_type": "code",
   "execution_count": null,
   "id": "49a74752",
   "metadata": {
    "collapsed": true,
    "scrolled": true
   },
   "outputs": [],
   "source": []
  },
  {
   "cell_type": "code",
   "execution_count": null,
   "id": "2c4369ae",
   "metadata": {
    "collapsed": true,
    "scrolled": true
   },
   "outputs": [],
   "source": []
  }
 ],
 "metadata": {
  "kernelspec": {
   "display_name": "Python 3 (ipykernel)",
   "language": "python",
   "name": "python3"
  },
  "language_info": {
   "codemirror_mode": {
    "name": "ipython",
    "version": 3
   },
   "file_extension": ".py",
   "mimetype": "text/x-python",
   "name": "python",
   "nbconvert_exporter": "python",
   "pygments_lexer": "ipython3",
   "version": "3.9.7"
  }
 },
 "nbformat": 4,
 "nbformat_minor": 5
}
