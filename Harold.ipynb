{
 "cells": [
  {
   "cell_type": "markdown",
   "id": "31b2165e-b07b-451e-8448-fd84e8692b71",
   "metadata": {},
   "source": [
    "Harold Articles \n",
    "Date: 23rd March 2022"
   ]
  },
  {
   "cell_type": "code",
   "execution_count": 1,
   "id": "9373f2ef-ea75-4e1c-bb20-e7eb0947f9ef",
   "metadata": {
    "collapsed": true,
    "scrolled": true
   },
   "outputs": [],
   "source": [
    "#libaries\n",
    "from bs4 import BeautifulSoup\n",
    "from IPython.core.display import display, HTML\n",
    "import requests\n",
    "import json"
   ]
  },
  {
   "cell_type": "code",
   "execution_count": 25,
   "id": "47f97450-564b-433d-9c07-1eef7a836561",
   "metadata": {
    "scrolled": true
   },
   "outputs": [],
   "source": [
    "#find class value, NZherald changes this value every 24 hours.\n",
    "#return \"na\" value if article is free :P\n",
    "def findClass(soup):    \n",
    "    #<script> tag contains the css selector value\n",
    "    data = json.loads(soup.find('script', type='application/ld+json').text)\n",
    "    \n",
    "    if 'hasPart' in data:\n",
    "        #print(\"premiumm\")\n",
    "        className = data['hasPart'][0]['cssSelector'][1:]\n",
    "        return className\n",
    "    else:\n",
    "        #print(\"its free silly!\")\n",
    "        className = \"na\"\n",
    "        return className"
   ]
  },
  {
   "cell_type": "code",
   "execution_count": 46,
   "id": "0b242234",
   "metadata": {},
   "outputs": [],
   "source": [
    "#retrive contents of the article\n",
    "def getContents(soup, value):\n",
    "    #title\n",
    "    if soup.find(\"h1\",{\"class\":\"article-bigread__heading\"}):\n",
    "        #if big read article\n",
    "        title = soup.find(\"h1\",{\"class\":\"article-bigread__heading\"}).text\n",
    "    elif soup.find(\"h1\",{\"class\":\"article__heading\"}):\n",
    "        #normal article\n",
    "        title = soup.find(\"h1\",{\"class\":\"article__heading\"}).text\n",
    "    else:\n",
    "        title = \"No title\"\n",
    "\n",
    "    #get intro text.\n",
    "    startText = None\n",
    "    if soup.find(\"span\",{\"class\":\"ellipsis\"}):\n",
    "        span = True\n",
    "        findSpanA = soup.find(\"span\",{\"class\":\"ellipsis\"}).text\n",
    "        findSpanB = soup.find(\"span\",{\"class\":value}).text \n",
    "        startText = findSpanA + \" \" + findSpanB\n",
    "    else:\n",
    "        span = False\n",
    "        startText = \" \"\n",
    "        findArticle = soup.find(\"section\",{\"data-test-ui\":\"article__body\"})\n",
    "        findStart = findArticle.find_all(\"p\",{\"class\":\"\"})\n",
    "\n",
    "    #text body\n",
    "    findText = soup.find_all([\"p\",\"h2\", \"div\"],{\"class\":value})\n",
    "\n",
    "    display(HTML('<h1> %s </h1>' % title))\n",
    "    display(HTML('<p>  </p>'))\n",
    "\n",
    "    if span:\n",
    "        display(HTML('<p> %s </p>' % startText))\n",
    "    else:\n",
    "        for i in findStart:\n",
    "            display(HTML('<p> %s </p>' % i.text))\n",
    "\n",
    "    display(HTML('<p>  </p>'))\n",
    "    for i in findText:\n",
    "        #sub-headings\n",
    "        if i.name == \"h2\":\n",
    "            display(HTML('<h2> %s </h2>' % i.text))\n",
    "        # text\n",
    "        elif i.name == \"p\":\n",
    "            display(HTML('<p> %s </p>' % i.text))\n",
    "            display(HTML('<p>  </p>'))\n",
    "\n",
    "        ##images\n",
    "        elif i.name == \"div\":\n",
    "                #get 730px resolution image for display which is the 4th item in the array\n",
    "                if i.find(\"img\"):\n",
    "                    images = i.find(\"img\")[\"data-srcset\"]\n",
    "                    image = images.split(\",\")\n",
    "                    imgUrl = image[3].split(\" \")[0]\n",
    "                    display(HTML('<img src=\"%s\" alt=\"\" width=\"500\" height=\"600\">' % imgUrl))\n",
    "    "
   ]
  },
  {
   "cell_type": "code",
   "execution_count": 47,
   "id": "72156c21-86ca-45dc-aa12-6d6314e64288",
   "metadata": {
    "scrolled": true
   },
   "outputs": [],
   "source": [
    "def NZHarold():\n",
    "    url = input(\"Enter NZhearld URL: \")\n",
    "    \n",
    "    #soup it\n",
    "    r = requests.get(url)\n",
    "    soup = BeautifulSoup(r.text, 'html.parser')\n",
    "    \n",
    "    #find hidden class\n",
    "    classValue = findClass(soup)\n",
    "    \n",
    "    #if the article is free......\n",
    "    if classValue == \"na\":\n",
    "        display(HTML('<h1> This article is free silly! </h1>'))\n",
    "    else:\n",
    "        getContents(soup, classValue)\n"
   ]
  },
  {
   "cell_type": "code",
   "execution_count": 49,
   "id": "e72f39c2",
   "metadata": {
    "scrolled": false,
    "slideshow": {
     "slide_type": "-"
    }
   },
   "outputs": [
    {
     "name": "stdout",
     "output_type": "stream",
     "text": [
      "Enter NZhearld URL: https://www.nzherald.co.nz/entertainment/jonathan-dean-talks-to-the-highest-grossing-actor-of-all-time-samuel-l-jackson/LGDH7V7WV6GFE3VPVQSG7TA3M4/\n",
      "premiumm\n"
     ]
    },
    {
     "data": {
      "text/html": [
       "<h1> Jonathan Dean talks to the highest-grossing actor of all time, Samuel L. Jackson </h1>"
      ],
      "text/plain": [
       "<IPython.core.display.HTML object>"
      ]
     },
     "metadata": {},
     "output_type": "display_data"
    },
    {
     "data": {
      "text/html": [
       "<p>  </p>"
      ],
      "text/plain": [
       "<IPython.core.display.HTML object>"
      ]
     },
     "metadata": {},
     "output_type": "display_data"
    },
    {
     "data": {
      "text/html": [
       "<p> Samuel L. Jackson is in London, making a superhero television show called The Secret Invasion. He has been coming to Britain since 1980. \"Yesterday I went through Shepherds Bush,\" he says. \"Where I used to buy weed.\" </p>"
      ],
      "text/plain": [
       "<IPython.core.display.HTML object>"
      ]
     },
     "metadata": {},
     "output_type": "display_data"
    },
    {
     "data": {
      "text/html": [
       "<p>  </p>"
      ],
      "text/plain": [
       "<IPython.core.display.HTML object>"
      ]
     },
     "metadata": {},
     "output_type": "display_data"
    },
    {
     "data": {
      "text/html": [
       "<p> Another time he went to Blackpool. \"I don't know if I like Blackpool that much.\" Soon he heads back to Los Angeles, where he lives with his wife, LaTanya, a fellow actor. He has an award to pick up — the Academy honorary award, a statuette given to stars who, awkwardly, never won an Oscar. Jackson has only one nomination, for Jules in Quentin Tarantino's Pulp Fiction. </p>"
      ],
      "text/plain": [
       "<IPython.core.display.HTML object>"
      ]
     },
     "metadata": {},
     "output_type": "display_data"
    },
    {
     "data": {
      "text/html": [
       "<p>  </p>"
      ],
      "text/plain": [
       "<IPython.core.display.HTML object>"
      ]
     },
     "metadata": {},
     "output_type": "display_data"
    },
    {
     "data": {
      "text/html": [
       "<img src=\"https://www.nzherald.co.nz/resizer/CLfX5PnPoHfCHo4zVKNJn7Omebk=/768x515/smart/filters:quality(70)/cloudfront-ap-southeast-2.images.arcpublishing.com/nzme/AL7DCLQQWMFATUSEYC5L2K3ADE.jpg\" alt=\"\" width=\"500\" height=\"600\">"
      ],
      "text/plain": [
       "<IPython.core.display.HTML object>"
      ]
     },
     "metadata": {},
     "output_type": "display_data"
    },
    {
     "data": {
      "text/html": [
       "<p> \"I should have won that one,\" he says, smiling. He also cites his role as the junkie in Jungle Fever as another that got away. He was beaten to a nod by two of the cast of the gangster film Bugsy. </p>"
      ],
      "text/plain": [
       "<IPython.core.display.HTML object>"
      ]
     },
     "metadata": {},
     "output_type": "display_data"
    },
    {
     "data": {
      "text/html": [
       "<p>  </p>"
      ],
      "text/plain": [
       "<IPython.core.display.HTML object>"
      ]
     },
     "metadata": {},
     "output_type": "display_data"
    },
    {
     "data": {
      "text/html": [
       "<p> \"My wife and I went to see Bugsy,\" he says. \"Damn! They got nominated and I didn't? I guess black folk usually win for doing despicable s*** on screen. Like Denzel [Washington], for being a horrible cop in Training Day. All the great stuff he did in uplifting roles like Malcolm X? No — we'll give it to this motherf***er. So maybe I should have won one. But Oscars don't move the comma on your cheque — it's about getting asses in seats and I've done a good job of doing that.\" </p>"
      ],
      "text/plain": [
       "<IPython.core.display.HTML object>"
      ]
     },
     "metadata": {},
     "output_type": "display_data"
    },
    {
     "data": {
      "text/html": [
       "<p>  </p>"
      ],
      "text/plain": [
       "<IPython.core.display.HTML object>"
      ]
     },
     "metadata": {},
     "output_type": "display_data"
    },
    {
     "data": {
      "text/html": [
       "<p> This is Jackson to a tee. He sits there, so enormously relaxed while spilling out opinions that he often just chuckles, puts his feet up. Wearing clear-framed round specs, his voice, as you know from more than 150 films, rises, falls and squeaks when he finds something daft. </p>"
      ],
      "text/plain": [
       "<IPython.core.display.HTML object>"
      ]
     },
     "metadata": {},
     "output_type": "display_data"
    },
    {
     "data": {
      "text/html": [
       "<p>  </p>"
      ],
      "text/plain": [
       "<IPython.core.display.HTML object>"
      ]
     },
     "metadata": {},
     "output_type": "display_data"
    },
    {
     "data": {
      "text/html": [
       "<p> His drug years, his mother's dementia, Joe Rogan — it's a verbal storm from a 73-year-old who happens to be the highest-grossing actor of all time. The combined box office take from his films is US$27 billion ($40 billion) — his closest real rival is Robert Downey jnr at US$16 billion. </p>"
      ],
      "text/plain": [
       "<IPython.core.display.HTML object>"
      ]
     },
     "metadata": {},
     "output_type": "display_data"
    },
    {
     "data": {
      "text/html": [
       "<p>  </p>"
      ],
      "text/plain": [
       "<IPython.core.display.HTML object>"
      ]
     },
     "metadata": {},
     "output_type": "display_data"
    },
    {
     "data": {
      "text/html": [
       "<img src=\"https://www.nzherald.co.nz/resizer/hq_cPV6CA1jdD_5IeK6GLJZrraE=/768x432/smart/filters:quality(70)/cloudfront-ap-southeast-2.images.arcpublishing.com/nzme/ESMCYIY56JW56GFBHVMWALYOZQ.jpg\" alt=\"\" width=\"500\" height=\"600\">"
      ],
      "text/plain": [
       "<IPython.core.display.HTML object>"
      ]
     },
     "metadata": {},
     "output_type": "display_data"
    },
    {
     "data": {
      "text/html": [
       "<p> Ten appearances as Nick Fury in Marvel films help, as does Jurassic Park and three Star Wars movies. When Jackson was making his third Star Wars in 2004, George Lucas told him that, when the film came out, Jackson would usurp Harrison Ford at the top of the earners chart. \"I'm going to do that before then,\" Jackson said. \"Because I've got this little movie coming called The Incredibles.\" </p>"
      ],
      "text/plain": [
       "<IPython.core.display.HTML object>"
      ]
     },
     "metadata": {},
     "output_type": "display_data"
    },
    {
     "data": {
      "text/html": [
       "<p>  </p>"
      ],
      "text/plain": [
       "<IPython.core.display.HTML object>"
      ]
     },
     "metadata": {},
     "output_type": "display_data"
    },
    {
     "data": {
      "text/html": [
       "<p> Anyway, he is pleased about the Academy honorary award and says he will be polite in his speech, although he goes on to say that he is tired of elitism and luminaries such as Martin Scorsese who have recently derided Marvel films. </p>"
      ],
      "text/plain": [
       "<IPython.core.display.HTML object>"
      ]
     },
     "metadata": {},
     "output_type": "display_data"
    },
    {
     "data": {
      "text/html": [
       "<p>  </p>"
      ],
      "text/plain": [
       "<IPython.core.display.HTML object>"
      ]
     },
     "metadata": {},
     "output_type": "display_data"
    },
    {
     "data": {
      "text/html": [
       "<img src=\"https://www.nzherald.co.nz/resizer/-YM9tE6VRRhEk4kmfoidE4mjGtw=/768x1392/smart/filters:quality(70)/cloudfront-ap-southeast-2.images.arcpublishing.com/nzme/ASYLOWOYJUCQOJ2TEKVN23WIHU.jpg\" alt=\"\" width=\"500\" height=\"600\">"
      ],
      "text/plain": [
       "<IPython.core.display.HTML object>"
      ]
     },
     "metadata": {},
     "output_type": "display_data"
    },
    {
     "data": {
      "text/html": [
       "<p> \"All movies are valid,\" Jackson says. \"Some go to the cinema to be moved dearly. Some like superheroes. If somebody has more butts on seats it just means your audience is not as broad. There are people who have had successful careers but nobody can recite one line of their parts. I'm the guy who says s*** that's on a T-shirt.\" </p>"
      ],
      "text/plain": [
       "<IPython.core.display.HTML object>"
      ]
     },
     "metadata": {},
     "output_type": "display_data"
    },
    {
     "data": {
      "text/html": [
       "<p>  </p>"
      ],
      "text/plain": [
       "<IPython.core.display.HTML object>"
      ]
     },
     "metadata": {},
     "output_type": "display_data"
    },
    {
     "data": {
      "text/html": [
       "<p> \"They should have an Oscar for the most popular movie,\" he continues. \"Because that's what the business is about. Spider-Man: No Way Home made $1.8 billion — should they give it an Oscar? \"They should! It did what movies did for ever — it got people to a big dark room.\" </p>"
      ],
      "text/plain": [
       "<IPython.core.display.HTML object>"
      ]
     },
     "metadata": {},
     "output_type": "display_data"
    },
    {
     "data": {
      "text/html": [
       "<p>  </p>"
      ],
      "text/plain": [
       "<IPython.core.display.HTML object>"
      ]
     },
     "metadata": {},
     "output_type": "display_data"
    },
    {
     "data": {
      "text/html": [
       "<p> Now for something utterly different and a new Apple TV drama starring Jackson as the lead in The Last Days of Ptolemy Grey. Based on a Walter Mosley novel, it tells of a man with dementia offered a miracle cure, and if it were a film it might have led him to that Oscar. </p>"
      ],
      "text/plain": [
       "<IPython.core.display.HTML object>"
      ]
     },
     "metadata": {},
     "output_type": "display_data"
    },
    {
     "data": {
      "text/html": [
       "<p>  </p>"
      ],
      "text/plain": [
       "<IPython.core.display.HTML object>"
      ]
     },
     "metadata": {},
     "output_type": "display_data"
    },
    {
     "data": {
      "text/html": [
       "<p> Jackson has done serious before — notably in A Time to Kill, on trial for the murder of the men who raped his daughter — but not for a while. This one is personal, though. Dementia runs in his family. His mother, grandfather, aunt, uncle — they are why he took the role. </p>"
      ],
      "text/plain": [
       "<IPython.core.display.HTML object>"
      ]
     },
     "metadata": {},
     "output_type": "display_data"
    },
    {
     "data": {
      "text/html": [
       "<p>  </p>"
      ],
      "text/plain": [
       "<IPython.core.display.HTML object>"
      ]
     },
     "metadata": {},
     "output_type": "display_data"
    },
    {
     "data": {
      "text/html": [
       "<img src=\"https://www.nzherald.co.nz/resizer/BjhwJH0c7vysgWhpISq04AyWqmE=/768x1105/smart/filters:quality(70)/cloudfront-ap-southeast-2.images.arcpublishing.com/nzme/YWRM4GJJT24QQD5NWDTCFYCRTI.jpg\" alt=\"\" width=\"500\" height=\"600\">"
      ],
      "text/plain": [
       "<IPython.core.display.HTML object>"
      ]
     },
     "metadata": {},
     "output_type": "display_data"
    },
    {
     "data": {
      "text/html": [
       "<p> \"I remember the last time my mother called my name,\" Jackson says. She was Elizabeth, a factory worker and single mother, who died in 2012. \"She was watching TV and a film of mine was coming out,\" he says. \"I popped up on the screen and she looked at me and said, 'Oh, Sam.' That was it.\" </p>"
      ],
      "text/plain": [
       "<IPython.core.display.HTML object>"
      ]
     },
     "metadata": {},
     "output_type": "display_data"
    },
    {
     "data": {
      "text/html": [
       "<p>  </p>"
      ],
      "text/plain": [
       "<IPython.core.display.HTML object>"
      ]
     },
     "metadata": {},
     "output_type": "display_data"
    },
    {
     "data": {
      "text/html": [
       "<p> After that he would look at her trying to figure out who he was. She would get angry. \"I don't know if she was running through faces in her mind or seeing me from when I was a little person. Or as this big person.\" </p>"
      ],
      "text/plain": [
       "<IPython.core.display.HTML object>"
      ]
     },
     "metadata": {},
     "output_type": "display_data"
    },
    {
     "data": {
      "text/html": [
       "<p>  </p>"
      ],
      "text/plain": [
       "<IPython.core.display.HTML object>"
      ]
     },
     "metadata": {},
     "output_type": "display_data"
    },
    {
     "data": {
      "text/html": [
       "<p> Given the family history, is Jackson afraid? \"Of course,\" he says. \"I have times when I can't remember a name that I know I know. Or walk in a room to get something and go, 'Why am I in here?' But I also still remember pages of dialogue a day. So, do I think about it? Yes. Am I worried? I'm 73 … 74? 73 …\" He laughs. \"See, like that! But it had happened to my mum and my grandfather by now. So I think I'm okay. For the moment.\" </p>"
      ],
      "text/plain": [
       "<IPython.core.display.HTML object>"
      ]
     },
     "metadata": {},
     "output_type": "display_data"
    },
    {
     "data": {
      "text/html": [
       "<p>  </p>"
      ],
      "text/plain": [
       "<IPython.core.display.HTML object>"
      ]
     },
     "metadata": {},
     "output_type": "display_data"
    },
    {
     "data": {
      "text/html": [
       "<p> Physically he is more than okay — a super-fit man with a skincare regime who tends to be in the sort of high-octane action role previously not associated with actors his age. </p>"
      ],
      "text/plain": [
       "<IPython.core.display.HTML object>"
      ]
     },
     "metadata": {},
     "output_type": "display_data"
    },
    {
     "data": {
      "text/html": [
       "<p>  </p>"
      ],
      "text/plain": [
       "<IPython.core.display.HTML object>"
      ]
     },
     "metadata": {},
     "output_type": "display_data"
    },
    {
     "data": {
      "text/html": [
       "<p> \"Yet people know I'm 73,\" he says. \"I'm not going to get into a fistfight with some 20-year-old. But I'll shoot him. I can do that. If a guy hits me, I'm down. I've got 15 seconds of fight, so I don't put myself in those positions. Let's not stretch credibility.\" He has a bad knee, so his characters will often be shot in a leg or twist an ankle so Jackson can limp. </p>"
      ],
      "text/plain": [
       "<IPython.core.display.HTML object>"
      ]
     },
     "metadata": {},
     "output_type": "display_data"
    },
    {
     "data": {
      "text/html": [
       "<p>  </p>"
      ],
      "text/plain": [
       "<IPython.core.display.HTML object>"
      ]
     },
     "metadata": {},
     "output_type": "display_data"
    },
    {
     "data": {
      "text/html": [
       "<p> In Captain Marvel they used digital tricks to de-age him decades, like in The Irishman. \"That's the worst,\" Jackson barks. \"I don't know what company Marty [Scorsese] used but it wasn't the company they used for Captain Marvel.\" </p>"
      ],
      "text/plain": [
       "<IPython.core.display.HTML object>"
      ]
     },
     "metadata": {},
     "output_type": "display_data"
    },
    {
     "data": {
      "text/html": [
       "<p>  </p>"
      ],
      "text/plain": [
       "<IPython.core.display.HTML object>"
      ]
     },
     "metadata": {},
     "output_type": "display_data"
    },
    {
     "data": {
      "text/html": [
       "<p> What a blast he is. So many bases are covered it feels like a game of baseball. On occasion, while waiting for a question, he pulls a quizzical face and you worry he is about to shut you down — but he just keeps on talking. </p>"
      ],
      "text/plain": [
       "<IPython.core.display.HTML object>"
      ]
     },
     "metadata": {},
     "output_type": "display_data"
    },
    {
     "data": {
      "text/html": [
       "<p>  </p>"
      ],
      "text/plain": [
       "<IPython.core.display.HTML object>"
      ]
     },
     "metadata": {},
     "output_type": "display_data"
    },
    {
     "data": {
      "text/html": [
       "<p> This is how conversation goes. We talk about politics in films and he says: \"What's the politics of Snakes on a Plane?\" — his thriller about, erm, snakes on a plane. I say some think that, post 9/11, it was about the need for air marshals. </p>"
      ],
      "text/plain": [
       "<IPython.core.display.HTML object>"
      ]
     },
     "metadata": {},
     "output_type": "display_data"
    },
    {
     "data": {
      "text/html": [
       "<p>  </p>"
      ],
      "text/plain": [
       "<IPython.core.display.HTML object>"
      ]
     },
     "metadata": {},
     "output_type": "display_data"
    },
    {
     "data": {
      "text/html": [
       "<img src=\"https://www.nzherald.co.nz/resizer/uF2-zAxXsiDCofBxVn8Qk31Rt8g=/768x613/smart/filters:quality(70)/cloudfront-ap-southeast-2.images.arcpublishing.com/nzme/VKKXUL2FS534I3WQMJUNKC4R6I.jpg\" alt=\"\" width=\"500\" height=\"600\">"
      ],
      "text/plain": [
       "<IPython.core.display.HTML object>"
      ]
     },
     "metadata": {},
     "output_type": "display_data"
    },
    {
     "data": {
      "text/html": [
       "<p> \"Every opinion is not precious, but everyone seems to think they are,\" he says. He tells me that his daughter, Zoe, 39, who also works in film, stopped him going on social media as much as he did. His edgy humour did not translate to Twitter and he was always one post away from getting cancelled. \"People are always calling me about doing a podcast, but I can't talk for an hour without saying something f***ed-up.\" </p>"
      ],
      "text/plain": [
       "<IPython.core.display.HTML object>"
      ]
     },
     "metadata": {},
     "output_type": "display_data"
    },
    {
     "data": {
      "text/html": [
       "<p>  </p>"
      ],
      "text/plain": [
       "<IPython.core.display.HTML object>"
      ]
     },
     "metadata": {},
     "output_type": "display_data"
    },
    {
     "data": {
      "text/html": [
       "<p> And so to the blowhard world number one podcaster, Joe Rogan. Not because of vaccine scepticism, but his use of the N-word. \"He is saying nobody understood the context when he said it,\" Jackson says, rolling his eyes. \"But he shouldn't have said it. It's not the context, dude — it's that he was comfortable doing it. Say that you're sorry because you want to keep your money, but you were having fun and you say you did it because it was entertaining.\" </p>"
      ],
      "text/plain": [
       "<IPython.core.display.HTML object>"
      ]
     },
     "metadata": {},
     "output_type": "display_data"
    },
    {
     "data": {
      "text/html": [
       "<p>  </p>"
      ],
      "text/plain": [
       "<IPython.core.display.HTML object>"
      ]
     },
     "metadata": {},
     "output_type": "display_data"
    },
    {
     "data": {
      "text/html": [
       "<p> So his use of the N-word lacked context? \"It needs to be an element of what the story is about. A story is context — but just to elicit a laugh? That's wrong.\" </p>"
      ],
      "text/plain": [
       "<IPython.core.display.HTML object>"
      ]
     },
     "metadata": {},
     "output_type": "display_data"
    },
    {
     "data": {
      "text/html": [
       "<p>  </p>"
      ],
      "text/plain": [
       "<IPython.core.display.HTML object>"
      ]
     },
     "metadata": {},
     "output_type": "display_data"
    },
    {
     "data": {
      "text/html": [
       "<img src=\"https://www.nzherald.co.nz/resizer/x6x8PKfRJ-AkhnzOrlMRUUHTaGE=/768x442/smart/filters:quality(70)/cloudfront-ap-southeast-2.images.arcpublishing.com/nzme/5A6F7GEW5FZ2ZC7SIB5BNKN4SI.jpg\" alt=\"\" width=\"500\" height=\"600\">"
      ],
      "text/plain": [
       "<IPython.core.display.HTML object>"
      ]
     },
     "metadata": {},
     "output_type": "display_data"
    },
    {
     "data": {
      "text/html": [
       "<p> Jackson has worked with Tarantino six times. \"While we were rehearsing [the slave movie] Django Unchained, Leo [DiCaprio] said, 'I don't know if I can say 'n*****' this many times.' Me and Quentin said that you have to. Every time someone wants an example of overuse of the N-word, they go to Quentin — it's unfair. He's just telling the story and the characters do talk like that. When Steve McQueen does it, it's art. He's an artiste. Quentin's just a popcorn film-maker.\" </p>"
      ],
      "text/plain": [
       "<IPython.core.display.HTML object>"
      ]
     },
     "metadata": {},
     "output_type": "display_data"
    },
    {
     "data": {
      "text/html": [
       "<p>  </p>"
      ],
      "text/plain": [
       "<IPython.core.display.HTML object>"
      ]
     },
     "metadata": {},
     "output_type": "display_data"
    },
    {
     "data": {
      "text/html": [
       "<p> What a load of stories. Still, there are some memories that Jackson would rather forget. </p>"
      ],
      "text/plain": [
       "<IPython.core.display.HTML object>"
      ]
     },
     "metadata": {},
     "output_type": "display_data"
    },
    {
     "data": {
      "text/html": [
       "<p>  </p>"
      ],
      "text/plain": [
       "<IPython.core.display.HTML object>"
      ]
     },
     "metadata": {},
     "output_type": "display_data"
    },
    {
     "data": {
      "text/html": [
       "<p> Born in 1948, he was brought up in Tennessee before going to college in Atlanta and moving to New York in 1976 to become a stage actor. A lot of drugs followed. One idea Ptolemy Grey has is that we lose our minds so we can forget what hurts us and Jackson has bad memories from that era. He hurt people. \"And there are things from then I really don't remember!\" He laughs. \"But I didn't like that point in my life.\" </p>"
      ],
      "text/plain": [
       "<IPython.core.display.HTML object>"
      ]
     },
     "metadata": {},
     "output_type": "display_data"
    },
    {
     "data": {
      "text/html": [
       "<p>  </p>"
      ],
      "text/plain": [
       "<IPython.core.display.HTML object>"
      ]
     },
     "metadata": {},
     "output_type": "display_data"
    },
    {
     "data": {
      "text/html": [
       "<img src=\"https://www.nzherald.co.nz/resizer/99UaDlN3bO2TO6rLEs6idRIBP1I=/768x372/smart/filters:quality(70)/cloudfront-ap-southeast-2.images.arcpublishing.com/nzme/2LWZ7UCIZKMFOBYOQDCS5B6R7U.jpg\" alt=\"\" width=\"500\" height=\"600\">"
      ],
      "text/plain": [
       "<IPython.core.display.HTML object>"
      ]
     },
     "metadata": {},
     "output_type": "display_data"
    },
    {
     "data": {
      "text/html": [
       "<p> So let us end on a positive. His latest role is about memory. He has already talked to his daughter about what to do if his mind slips. \"Don't dress me up and send me on stage and pretend I'm okay,\" he says, laughing. \"I've seen that with other actors.\" </p>"
      ],
      "text/plain": [
       "<IPython.core.display.HTML object>"
      ]
     },
     "metadata": {},
     "output_type": "display_data"
    },
    {
     "data": {
      "text/html": [
       "<p>  </p>"
      ],
      "text/plain": [
       "<IPython.core.display.HTML object>"
      ]
     },
     "metadata": {},
     "output_type": "display_data"
    },
    {
     "data": {
      "text/html": [
       "<p> I ask what he would most want to cling on to later on. \"There are performances that I've done,\" he says. \"Times I was so happy to get to the theatre. Then there was when I got sober. There's a correlation between that and success. I did Jungle Fever three days out of rehab, not needing makeup because I was detoxing. I knew as soon as I got high before work and high at work again this was all going to crumble. So I go back to getting clean.\" </p>"
      ],
      "text/plain": [
       "<IPython.core.display.HTML object>"
      ]
     },
     "metadata": {},
     "output_type": "display_data"
    },
    {
     "data": {
      "text/html": [
       "<p>  </p>"
      ],
      "text/plain": [
       "<IPython.core.display.HTML object>"
      ]
     },
     "metadata": {},
     "output_type": "display_data"
    },
    {
     "data": {
      "text/html": [
       "<p> His is a life of exceptional adventure. The Academy honorary award? It's a belated prize for a mantelpiece of memories of fame and family. \"I go back to the wonderful times after I got sober of experiencing my daughter,\" he continues about what means most. \"Those are things I want to hold on to.\" </p>"
      ],
      "text/plain": [
       "<IPython.core.display.HTML object>"
      ]
     },
     "metadata": {},
     "output_type": "display_data"
    },
    {
     "data": {
      "text/html": [
       "<p>  </p>"
      ],
      "text/plain": [
       "<IPython.core.display.HTML object>"
      ]
     },
     "metadata": {},
     "output_type": "display_data"
    },
    {
     "data": {
      "text/html": [
       "<p> The Last Days of Ptolemy Grey is streaming on Apple TV. </p>"
      ],
      "text/plain": [
       "<IPython.core.display.HTML object>"
      ]
     },
     "metadata": {},
     "output_type": "display_data"
    },
    {
     "data": {
      "text/html": [
       "<p>  </p>"
      ],
      "text/plain": [
       "<IPython.core.display.HTML object>"
      ]
     },
     "metadata": {},
     "output_type": "display_data"
    },
    {
     "data": {
      "text/html": [
       "<p> Written by: Jonathan Dean© The Times of London </p>"
      ],
      "text/plain": [
       "<IPython.core.display.HTML object>"
      ]
     },
     "metadata": {},
     "output_type": "display_data"
    },
    {
     "data": {
      "text/html": [
       "<p>  </p>"
      ],
      "text/plain": [
       "<IPython.core.display.HTML object>"
      ]
     },
     "metadata": {},
     "output_type": "display_data"
    },
    {
     "data": {
      "text/html": [
       "<h1> Jonathan Dean talks to the highest-grossing actor of all time, Samuel L. Jackson </h1>"
      ],
      "text/plain": [
       "<IPython.core.display.HTML object>"
      ]
     },
     "metadata": {},
     "output_type": "display_data"
    },
    {
     "data": {
      "text/html": [
       "<p>  </p>"
      ],
      "text/plain": [
       "<IPython.core.display.HTML object>"
      ]
     },
     "metadata": {},
     "output_type": "display_data"
    },
    {
     "data": {
      "text/html": [
       "<p> Samuel L. Jackson is in London, making a superhero television show called The Secret Invasion. He has been coming to Britain since 1980. \"Yesterday I went through Shepherds Bush,\" he says. \"Where I used to buy weed.\" </p>"
      ],
      "text/plain": [
       "<IPython.core.display.HTML object>"
      ]
     },
     "metadata": {},
     "output_type": "display_data"
    },
    {
     "data": {
      "text/html": [
       "<p>  </p>"
      ],
      "text/plain": [
       "<IPython.core.display.HTML object>"
      ]
     },
     "metadata": {},
     "output_type": "display_data"
    },
    {
     "data": {
      "text/html": [
       "<p> Another time he went to Blackpool. \"I don't know if I like Blackpool that much.\" Soon he heads back to Los Angeles, where he lives with his wife, LaTanya, a fellow actor. He has an award to pick up — the Academy honorary award, a statuette given to stars who, awkwardly, never won an Oscar. Jackson has only one nomination, for Jules in Quentin Tarantino's Pulp Fiction. </p>"
      ],
      "text/plain": [
       "<IPython.core.display.HTML object>"
      ]
     },
     "metadata": {},
     "output_type": "display_data"
    },
    {
     "data": {
      "text/html": [
       "<p>  </p>"
      ],
      "text/plain": [
       "<IPython.core.display.HTML object>"
      ]
     },
     "metadata": {},
     "output_type": "display_data"
    },
    {
     "data": {
      "text/html": [
       "<img src=\"https://www.nzherald.co.nz/resizer/CLfX5PnPoHfCHo4zVKNJn7Omebk=/768x515/smart/filters:quality(70)/cloudfront-ap-southeast-2.images.arcpublishing.com/nzme/AL7DCLQQWMFATUSEYC5L2K3ADE.jpg\" alt=\"\" width=\"500\" height=\"600\">"
      ],
      "text/plain": [
       "<IPython.core.display.HTML object>"
      ]
     },
     "metadata": {},
     "output_type": "display_data"
    },
    {
     "data": {
      "text/html": [
       "<p> \"I should have won that one,\" he says, smiling. He also cites his role as the junkie in Jungle Fever as another that got away. He was beaten to a nod by two of the cast of the gangster film Bugsy. </p>"
      ],
      "text/plain": [
       "<IPython.core.display.HTML object>"
      ]
     },
     "metadata": {},
     "output_type": "display_data"
    },
    {
     "data": {
      "text/html": [
       "<p>  </p>"
      ],
      "text/plain": [
       "<IPython.core.display.HTML object>"
      ]
     },
     "metadata": {},
     "output_type": "display_data"
    },
    {
     "data": {
      "text/html": [
       "<p> \"My wife and I went to see Bugsy,\" he says. \"Damn! They got nominated and I didn't? I guess black folk usually win for doing despicable s*** on screen. Like Denzel [Washington], for being a horrible cop in Training Day. All the great stuff he did in uplifting roles like Malcolm X? No — we'll give it to this motherf***er. So maybe I should have won one. But Oscars don't move the comma on your cheque — it's about getting asses in seats and I've done a good job of doing that.\" </p>"
      ],
      "text/plain": [
       "<IPython.core.display.HTML object>"
      ]
     },
     "metadata": {},
     "output_type": "display_data"
    },
    {
     "data": {
      "text/html": [
       "<p>  </p>"
      ],
      "text/plain": [
       "<IPython.core.display.HTML object>"
      ]
     },
     "metadata": {},
     "output_type": "display_data"
    },
    {
     "data": {
      "text/html": [
       "<p> This is Jackson to a tee. He sits there, so enormously relaxed while spilling out opinions that he often just chuckles, puts his feet up. Wearing clear-framed round specs, his voice, as you know from more than 150 films, rises, falls and squeaks when he finds something daft. </p>"
      ],
      "text/plain": [
       "<IPython.core.display.HTML object>"
      ]
     },
     "metadata": {},
     "output_type": "display_data"
    },
    {
     "data": {
      "text/html": [
       "<p>  </p>"
      ],
      "text/plain": [
       "<IPython.core.display.HTML object>"
      ]
     },
     "metadata": {},
     "output_type": "display_data"
    },
    {
     "data": {
      "text/html": [
       "<p> His drug years, his mother's dementia, Joe Rogan — it's a verbal storm from a 73-year-old who happens to be the highest-grossing actor of all time. The combined box office take from his films is US$27 billion ($40 billion) — his closest real rival is Robert Downey jnr at US$16 billion. </p>"
      ],
      "text/plain": [
       "<IPython.core.display.HTML object>"
      ]
     },
     "metadata": {},
     "output_type": "display_data"
    },
    {
     "data": {
      "text/html": [
       "<p>  </p>"
      ],
      "text/plain": [
       "<IPython.core.display.HTML object>"
      ]
     },
     "metadata": {},
     "output_type": "display_data"
    },
    {
     "data": {
      "text/html": [
       "<img src=\"https://www.nzherald.co.nz/resizer/hq_cPV6CA1jdD_5IeK6GLJZrraE=/768x432/smart/filters:quality(70)/cloudfront-ap-southeast-2.images.arcpublishing.com/nzme/ESMCYIY56JW56GFBHVMWALYOZQ.jpg\" alt=\"\" width=\"500\" height=\"600\">"
      ],
      "text/plain": [
       "<IPython.core.display.HTML object>"
      ]
     },
     "metadata": {},
     "output_type": "display_data"
    },
    {
     "data": {
      "text/html": [
       "<p> Ten appearances as Nick Fury in Marvel films help, as does Jurassic Park and three Star Wars movies. When Jackson was making his third Star Wars in 2004, George Lucas told him that, when the film came out, Jackson would usurp Harrison Ford at the top of the earners chart. \"I'm going to do that before then,\" Jackson said. \"Because I've got this little movie coming called The Incredibles.\" </p>"
      ],
      "text/plain": [
       "<IPython.core.display.HTML object>"
      ]
     },
     "metadata": {},
     "output_type": "display_data"
    },
    {
     "data": {
      "text/html": [
       "<p>  </p>"
      ],
      "text/plain": [
       "<IPython.core.display.HTML object>"
      ]
     },
     "metadata": {},
     "output_type": "display_data"
    },
    {
     "data": {
      "text/html": [
       "<p> Anyway, he is pleased about the Academy honorary award and says he will be polite in his speech, although he goes on to say that he is tired of elitism and luminaries such as Martin Scorsese who have recently derided Marvel films. </p>"
      ],
      "text/plain": [
       "<IPython.core.display.HTML object>"
      ]
     },
     "metadata": {},
     "output_type": "display_data"
    },
    {
     "data": {
      "text/html": [
       "<p>  </p>"
      ],
      "text/plain": [
       "<IPython.core.display.HTML object>"
      ]
     },
     "metadata": {},
     "output_type": "display_data"
    },
    {
     "data": {
      "text/html": [
       "<img src=\"https://www.nzherald.co.nz/resizer/-YM9tE6VRRhEk4kmfoidE4mjGtw=/768x1392/smart/filters:quality(70)/cloudfront-ap-southeast-2.images.arcpublishing.com/nzme/ASYLOWOYJUCQOJ2TEKVN23WIHU.jpg\" alt=\"\" width=\"500\" height=\"600\">"
      ],
      "text/plain": [
       "<IPython.core.display.HTML object>"
      ]
     },
     "metadata": {},
     "output_type": "display_data"
    },
    {
     "data": {
      "text/html": [
       "<p> \"All movies are valid,\" Jackson says. \"Some go to the cinema to be moved dearly. Some like superheroes. If somebody has more butts on seats it just means your audience is not as broad. There are people who have had successful careers but nobody can recite one line of their parts. I'm the guy who says s*** that's on a T-shirt.\" </p>"
      ],
      "text/plain": [
       "<IPython.core.display.HTML object>"
      ]
     },
     "metadata": {},
     "output_type": "display_data"
    },
    {
     "data": {
      "text/html": [
       "<p>  </p>"
      ],
      "text/plain": [
       "<IPython.core.display.HTML object>"
      ]
     },
     "metadata": {},
     "output_type": "display_data"
    },
    {
     "data": {
      "text/html": [
       "<p> \"They should have an Oscar for the most popular movie,\" he continues. \"Because that's what the business is about. Spider-Man: No Way Home made $1.8 billion — should they give it an Oscar? \"They should! It did what movies did for ever — it got people to a big dark room.\" </p>"
      ],
      "text/plain": [
       "<IPython.core.display.HTML object>"
      ]
     },
     "metadata": {},
     "output_type": "display_data"
    },
    {
     "data": {
      "text/html": [
       "<p>  </p>"
      ],
      "text/plain": [
       "<IPython.core.display.HTML object>"
      ]
     },
     "metadata": {},
     "output_type": "display_data"
    },
    {
     "data": {
      "text/html": [
       "<p> Now for something utterly different and a new Apple TV drama starring Jackson as the lead in The Last Days of Ptolemy Grey. Based on a Walter Mosley novel, it tells of a man with dementia offered a miracle cure, and if it were a film it might have led him to that Oscar. </p>"
      ],
      "text/plain": [
       "<IPython.core.display.HTML object>"
      ]
     },
     "metadata": {},
     "output_type": "display_data"
    },
    {
     "data": {
      "text/html": [
       "<p>  </p>"
      ],
      "text/plain": [
       "<IPython.core.display.HTML object>"
      ]
     },
     "metadata": {},
     "output_type": "display_data"
    },
    {
     "data": {
      "text/html": [
       "<p> Jackson has done serious before — notably in A Time to Kill, on trial for the murder of the men who raped his daughter — but not for a while. This one is personal, though. Dementia runs in his family. His mother, grandfather, aunt, uncle — they are why he took the role. </p>"
      ],
      "text/plain": [
       "<IPython.core.display.HTML object>"
      ]
     },
     "metadata": {},
     "output_type": "display_data"
    },
    {
     "data": {
      "text/html": [
       "<p>  </p>"
      ],
      "text/plain": [
       "<IPython.core.display.HTML object>"
      ]
     },
     "metadata": {},
     "output_type": "display_data"
    },
    {
     "data": {
      "text/html": [
       "<img src=\"https://www.nzherald.co.nz/resizer/BjhwJH0c7vysgWhpISq04AyWqmE=/768x1105/smart/filters:quality(70)/cloudfront-ap-southeast-2.images.arcpublishing.com/nzme/YWRM4GJJT24QQD5NWDTCFYCRTI.jpg\" alt=\"\" width=\"500\" height=\"600\">"
      ],
      "text/plain": [
       "<IPython.core.display.HTML object>"
      ]
     },
     "metadata": {},
     "output_type": "display_data"
    },
    {
     "data": {
      "text/html": [
       "<p> \"I remember the last time my mother called my name,\" Jackson says. She was Elizabeth, a factory worker and single mother, who died in 2012. \"She was watching TV and a film of mine was coming out,\" he says. \"I popped up on the screen and she looked at me and said, 'Oh, Sam.' That was it.\" </p>"
      ],
      "text/plain": [
       "<IPython.core.display.HTML object>"
      ]
     },
     "metadata": {},
     "output_type": "display_data"
    },
    {
     "data": {
      "text/html": [
       "<p>  </p>"
      ],
      "text/plain": [
       "<IPython.core.display.HTML object>"
      ]
     },
     "metadata": {},
     "output_type": "display_data"
    },
    {
     "data": {
      "text/html": [
       "<p> After that he would look at her trying to figure out who he was. She would get angry. \"I don't know if she was running through faces in her mind or seeing me from when I was a little person. Or as this big person.\" </p>"
      ],
      "text/plain": [
       "<IPython.core.display.HTML object>"
      ]
     },
     "metadata": {},
     "output_type": "display_data"
    },
    {
     "data": {
      "text/html": [
       "<p>  </p>"
      ],
      "text/plain": [
       "<IPython.core.display.HTML object>"
      ]
     },
     "metadata": {},
     "output_type": "display_data"
    },
    {
     "data": {
      "text/html": [
       "<p> Given the family history, is Jackson afraid? \"Of course,\" he says. \"I have times when I can't remember a name that I know I know. Or walk in a room to get something and go, 'Why am I in here?' But I also still remember pages of dialogue a day. So, do I think about it? Yes. Am I worried? I'm 73 … 74? 73 …\" He laughs. \"See, like that! But it had happened to my mum and my grandfather by now. So I think I'm okay. For the moment.\" </p>"
      ],
      "text/plain": [
       "<IPython.core.display.HTML object>"
      ]
     },
     "metadata": {},
     "output_type": "display_data"
    },
    {
     "data": {
      "text/html": [
       "<p>  </p>"
      ],
      "text/plain": [
       "<IPython.core.display.HTML object>"
      ]
     },
     "metadata": {},
     "output_type": "display_data"
    },
    {
     "data": {
      "text/html": [
       "<p> Physically he is more than okay — a super-fit man with a skincare regime who tends to be in the sort of high-octane action role previously not associated with actors his age. </p>"
      ],
      "text/plain": [
       "<IPython.core.display.HTML object>"
      ]
     },
     "metadata": {},
     "output_type": "display_data"
    },
    {
     "data": {
      "text/html": [
       "<p>  </p>"
      ],
      "text/plain": [
       "<IPython.core.display.HTML object>"
      ]
     },
     "metadata": {},
     "output_type": "display_data"
    },
    {
     "data": {
      "text/html": [
       "<p> \"Yet people know I'm 73,\" he says. \"I'm not going to get into a fistfight with some 20-year-old. But I'll shoot him. I can do that. If a guy hits me, I'm down. I've got 15 seconds of fight, so I don't put myself in those positions. Let's not stretch credibility.\" He has a bad knee, so his characters will often be shot in a leg or twist an ankle so Jackson can limp. </p>"
      ],
      "text/plain": [
       "<IPython.core.display.HTML object>"
      ]
     },
     "metadata": {},
     "output_type": "display_data"
    },
    {
     "data": {
      "text/html": [
       "<p>  </p>"
      ],
      "text/plain": [
       "<IPython.core.display.HTML object>"
      ]
     },
     "metadata": {},
     "output_type": "display_data"
    },
    {
     "data": {
      "text/html": [
       "<p> In Captain Marvel they used digital tricks to de-age him decades, like in The Irishman. \"That's the worst,\" Jackson barks. \"I don't know what company Marty [Scorsese] used but it wasn't the company they used for Captain Marvel.\" </p>"
      ],
      "text/plain": [
       "<IPython.core.display.HTML object>"
      ]
     },
     "metadata": {},
     "output_type": "display_data"
    },
    {
     "data": {
      "text/html": [
       "<p>  </p>"
      ],
      "text/plain": [
       "<IPython.core.display.HTML object>"
      ]
     },
     "metadata": {},
     "output_type": "display_data"
    },
    {
     "data": {
      "text/html": [
       "<p> What a blast he is. So many bases are covered it feels like a game of baseball. On occasion, while waiting for a question, he pulls a quizzical face and you worry he is about to shut you down — but he just keeps on talking. </p>"
      ],
      "text/plain": [
       "<IPython.core.display.HTML object>"
      ]
     },
     "metadata": {},
     "output_type": "display_data"
    },
    {
     "data": {
      "text/html": [
       "<p>  </p>"
      ],
      "text/plain": [
       "<IPython.core.display.HTML object>"
      ]
     },
     "metadata": {},
     "output_type": "display_data"
    },
    {
     "data": {
      "text/html": [
       "<p> This is how conversation goes. We talk about politics in films and he says: \"What's the politics of Snakes on a Plane?\" — his thriller about, erm, snakes on a plane. I say some think that, post 9/11, it was about the need for air marshals. </p>"
      ],
      "text/plain": [
       "<IPython.core.display.HTML object>"
      ]
     },
     "metadata": {},
     "output_type": "display_data"
    },
    {
     "data": {
      "text/html": [
       "<p>  </p>"
      ],
      "text/plain": [
       "<IPython.core.display.HTML object>"
      ]
     },
     "metadata": {},
     "output_type": "display_data"
    },
    {
     "data": {
      "text/html": [
       "<img src=\"https://www.nzherald.co.nz/resizer/uF2-zAxXsiDCofBxVn8Qk31Rt8g=/768x613/smart/filters:quality(70)/cloudfront-ap-southeast-2.images.arcpublishing.com/nzme/VKKXUL2FS534I3WQMJUNKC4R6I.jpg\" alt=\"\" width=\"500\" height=\"600\">"
      ],
      "text/plain": [
       "<IPython.core.display.HTML object>"
      ]
     },
     "metadata": {},
     "output_type": "display_data"
    },
    {
     "data": {
      "text/html": [
       "<p> \"Every opinion is not precious, but everyone seems to think they are,\" he says. He tells me that his daughter, Zoe, 39, who also works in film, stopped him going on social media as much as he did. His edgy humour did not translate to Twitter and he was always one post away from getting cancelled. \"People are always calling me about doing a podcast, but I can't talk for an hour without saying something f***ed-up.\" </p>"
      ],
      "text/plain": [
       "<IPython.core.display.HTML object>"
      ]
     },
     "metadata": {},
     "output_type": "display_data"
    },
    {
     "data": {
      "text/html": [
       "<p>  </p>"
      ],
      "text/plain": [
       "<IPython.core.display.HTML object>"
      ]
     },
     "metadata": {},
     "output_type": "display_data"
    },
    {
     "data": {
      "text/html": [
       "<p> And so to the blowhard world number one podcaster, Joe Rogan. Not because of vaccine scepticism, but his use of the N-word. \"He is saying nobody understood the context when he said it,\" Jackson says, rolling his eyes. \"But he shouldn't have said it. It's not the context, dude — it's that he was comfortable doing it. Say that you're sorry because you want to keep your money, but you were having fun and you say you did it because it was entertaining.\" </p>"
      ],
      "text/plain": [
       "<IPython.core.display.HTML object>"
      ]
     },
     "metadata": {},
     "output_type": "display_data"
    },
    {
     "data": {
      "text/html": [
       "<p>  </p>"
      ],
      "text/plain": [
       "<IPython.core.display.HTML object>"
      ]
     },
     "metadata": {},
     "output_type": "display_data"
    },
    {
     "data": {
      "text/html": [
       "<p> So his use of the N-word lacked context? \"It needs to be an element of what the story is about. A story is context — but just to elicit a laugh? That's wrong.\" </p>"
      ],
      "text/plain": [
       "<IPython.core.display.HTML object>"
      ]
     },
     "metadata": {},
     "output_type": "display_data"
    },
    {
     "data": {
      "text/html": [
       "<p>  </p>"
      ],
      "text/plain": [
       "<IPython.core.display.HTML object>"
      ]
     },
     "metadata": {},
     "output_type": "display_data"
    },
    {
     "data": {
      "text/html": [
       "<img src=\"https://www.nzherald.co.nz/resizer/x6x8PKfRJ-AkhnzOrlMRUUHTaGE=/768x442/smart/filters:quality(70)/cloudfront-ap-southeast-2.images.arcpublishing.com/nzme/5A6F7GEW5FZ2ZC7SIB5BNKN4SI.jpg\" alt=\"\" width=\"500\" height=\"600\">"
      ],
      "text/plain": [
       "<IPython.core.display.HTML object>"
      ]
     },
     "metadata": {},
     "output_type": "display_data"
    },
    {
     "data": {
      "text/html": [
       "<p> Jackson has worked with Tarantino six times. \"While we were rehearsing [the slave movie] Django Unchained, Leo [DiCaprio] said, 'I don't know if I can say 'n*****' this many times.' Me and Quentin said that you have to. Every time someone wants an example of overuse of the N-word, they go to Quentin — it's unfair. He's just telling the story and the characters do talk like that. When Steve McQueen does it, it's art. He's an artiste. Quentin's just a popcorn film-maker.\" </p>"
      ],
      "text/plain": [
       "<IPython.core.display.HTML object>"
      ]
     },
     "metadata": {},
     "output_type": "display_data"
    },
    {
     "data": {
      "text/html": [
       "<p>  </p>"
      ],
      "text/plain": [
       "<IPython.core.display.HTML object>"
      ]
     },
     "metadata": {},
     "output_type": "display_data"
    },
    {
     "data": {
      "text/html": [
       "<p> What a load of stories. Still, there are some memories that Jackson would rather forget. </p>"
      ],
      "text/plain": [
       "<IPython.core.display.HTML object>"
      ]
     },
     "metadata": {},
     "output_type": "display_data"
    },
    {
     "data": {
      "text/html": [
       "<p>  </p>"
      ],
      "text/plain": [
       "<IPython.core.display.HTML object>"
      ]
     },
     "metadata": {},
     "output_type": "display_data"
    },
    {
     "data": {
      "text/html": [
       "<p> Born in 1948, he was brought up in Tennessee before going to college in Atlanta and moving to New York in 1976 to become a stage actor. A lot of drugs followed. One idea Ptolemy Grey has is that we lose our minds so we can forget what hurts us and Jackson has bad memories from that era. He hurt people. \"And there are things from then I really don't remember!\" He laughs. \"But I didn't like that point in my life.\" </p>"
      ],
      "text/plain": [
       "<IPython.core.display.HTML object>"
      ]
     },
     "metadata": {},
     "output_type": "display_data"
    },
    {
     "data": {
      "text/html": [
       "<p>  </p>"
      ],
      "text/plain": [
       "<IPython.core.display.HTML object>"
      ]
     },
     "metadata": {},
     "output_type": "display_data"
    },
    {
     "data": {
      "text/html": [
       "<img src=\"https://www.nzherald.co.nz/resizer/99UaDlN3bO2TO6rLEs6idRIBP1I=/768x372/smart/filters:quality(70)/cloudfront-ap-southeast-2.images.arcpublishing.com/nzme/2LWZ7UCIZKMFOBYOQDCS5B6R7U.jpg\" alt=\"\" width=\"500\" height=\"600\">"
      ],
      "text/plain": [
       "<IPython.core.display.HTML object>"
      ]
     },
     "metadata": {},
     "output_type": "display_data"
    },
    {
     "data": {
      "text/html": [
       "<p> So let us end on a positive. His latest role is about memory. He has already talked to his daughter about what to do if his mind slips. \"Don't dress me up and send me on stage and pretend I'm okay,\" he says, laughing. \"I've seen that with other actors.\" </p>"
      ],
      "text/plain": [
       "<IPython.core.display.HTML object>"
      ]
     },
     "metadata": {},
     "output_type": "display_data"
    },
    {
     "data": {
      "text/html": [
       "<p>  </p>"
      ],
      "text/plain": [
       "<IPython.core.display.HTML object>"
      ]
     },
     "metadata": {},
     "output_type": "display_data"
    },
    {
     "data": {
      "text/html": [
       "<p> I ask what he would most want to cling on to later on. \"There are performances that I've done,\" he says. \"Times I was so happy to get to the theatre. Then there was when I got sober. There's a correlation between that and success. I did Jungle Fever three days out of rehab, not needing makeup because I was detoxing. I knew as soon as I got high before work and high at work again this was all going to crumble. So I go back to getting clean.\" </p>"
      ],
      "text/plain": [
       "<IPython.core.display.HTML object>"
      ]
     },
     "metadata": {},
     "output_type": "display_data"
    },
    {
     "data": {
      "text/html": [
       "<p>  </p>"
      ],
      "text/plain": [
       "<IPython.core.display.HTML object>"
      ]
     },
     "metadata": {},
     "output_type": "display_data"
    },
    {
     "data": {
      "text/html": [
       "<p> His is a life of exceptional adventure. The Academy honorary award? It's a belated prize for a mantelpiece of memories of fame and family. \"I go back to the wonderful times after I got sober of experiencing my daughter,\" he continues about what means most. \"Those are things I want to hold on to.\" </p>"
      ],
      "text/plain": [
       "<IPython.core.display.HTML object>"
      ]
     },
     "metadata": {},
     "output_type": "display_data"
    },
    {
     "data": {
      "text/html": [
       "<p>  </p>"
      ],
      "text/plain": [
       "<IPython.core.display.HTML object>"
      ]
     },
     "metadata": {},
     "output_type": "display_data"
    },
    {
     "data": {
      "text/html": [
       "<p> The Last Days of Ptolemy Grey is streaming on Apple TV. </p>"
      ],
      "text/plain": [
       "<IPython.core.display.HTML object>"
      ]
     },
     "metadata": {},
     "output_type": "display_data"
    },
    {
     "data": {
      "text/html": [
       "<p>  </p>"
      ],
      "text/plain": [
       "<IPython.core.display.HTML object>"
      ]
     },
     "metadata": {},
     "output_type": "display_data"
    },
    {
     "data": {
      "text/html": [
       "<p> Written by: Jonathan Dean© The Times of London </p>"
      ],
      "text/plain": [
       "<IPython.core.display.HTML object>"
      ]
     },
     "metadata": {},
     "output_type": "display_data"
    },
    {
     "data": {
      "text/html": [
       "<p>  </p>"
      ],
      "text/plain": [
       "<IPython.core.display.HTML object>"
      ]
     },
     "metadata": {},
     "output_type": "display_data"
    }
   ],
   "source": [
    "NZHarold()\n"
   ]
  },
  {
   "cell_type": "code",
   "execution_count": null,
   "id": "49a74752",
   "metadata": {
    "scrolled": true
   },
   "outputs": [],
   "source": []
  },
  {
   "cell_type": "code",
   "execution_count": null,
   "id": "2c4369ae",
   "metadata": {
    "collapsed": true,
    "scrolled": true
   },
   "outputs": [],
   "source": []
  }
 ],
 "metadata": {
  "kernelspec": {
   "display_name": "Python 3 (ipykernel)",
   "language": "python",
   "name": "python3"
  },
  "language_info": {
   "codemirror_mode": {
    "name": "ipython",
    "version": 3
   },
   "file_extension": ".py",
   "mimetype": "text/x-python",
   "name": "python",
   "nbconvert_exporter": "python",
   "pygments_lexer": "ipython3",
   "version": "3.9.7"
  }
 },
 "nbformat": 4,
 "nbformat_minor": 5
}
